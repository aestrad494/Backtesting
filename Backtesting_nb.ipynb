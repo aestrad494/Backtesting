{
 "cells": [
  {
   "cell_type": "markdown",
   "metadata": {},
   "source": [
    "# Backtesting Attemp 4"
   ]
  },
  {
   "cell_type": "markdown",
   "metadata": {},
   "source": [
    "### Importing Packages"
   ]
  },
  {
   "cell_type": "code",
   "execution_count": 1,
   "metadata": {},
   "outputs": [],
   "source": [
    "import pandas as pd\n",
    "import numpy as np\n",
    "import datetime\n",
    "import calendar\n",
    "import time\n",
    "import pytz\n",
    "import math\n",
    "from datetime import timedelta\n",
    "import matplotlib.pyplot as plt\n",
    "from Backtesting_Class import Backtesting_Strategy"
   ]
  },
  {
   "cell_type": "markdown",
   "metadata": {},
   "source": [
    "### Definning variable"
   ]
  },
  {
   "cell_type": "code",
   "execution_count": 2,
   "metadata": {},
   "outputs": [],
   "source": [
    "exit_target_sell = False\n",
    "exit_range_sell = False\n",
    "exit_hour_sell = False\n",
    "exit_target_buy = False\n",
    "exit_range_buy = False\n",
    "exit_hour_buy = False\n",
    "in_dd = False"
   ]
  },
  {
   "cell_type": "code",
   "execution_count": 3,
   "metadata": {},
   "outputs": [],
   "source": [
    "instrument = 'UNH'\n",
    "hora_ini = '09:30:00'\n",
    "hora_fin = '16:00:00'\n",
    "client = 100\n",
    "target = 1.27\n",
    "tempo = 5\n",
    "num_bars = 1\n",
    "tempo_h = 1/12\n",
    "num_bars_h = int((num_bars*tempo)/tempo_h)\n",
    "\n",
    "account = 20000\n",
    "risk = 0.01\n",
    "profit_buy_pos = 0\n",
    "profit_sell_pos = 0\n",
    "profit_buy_neg = 0\n",
    "profit_sell_neg = 0\n",
    "exit_buy = 0\n",
    "exit_sell = 0\n",
    "total_0 = []"
   ]
  },
  {
   "cell_type": "code",
   "execution_count": 4,
   "metadata": {},
   "outputs": [],
   "source": [
    "def printProgressBar (iteration, total, prefix = '', suffix = '', decimals = 1, length = 100, fill = '#'):\n",
    "    percent = (\"{0:.\" + str(decimals) + \"f}\").format(100 * (iteration / float(total)))\n",
    "    filledLength = int(length * iteration // total)\n",
    "    bar = fill * filledLength + '-' * (length - filledLength)\n",
    "    print('\\r%s |%s| %s%% %s' % (prefix, bar, percent, suffix), end = '\\r')\n",
    "    # Print New Line on Complete\n",
    "    if iteration == total: \n",
    "        print()"
   ]
  },
  {
   "cell_type": "markdown",
   "metadata": {},
   "source": [
    "### Download Data"
   ]
  },
  {
   "cell_type": "code",
   "execution_count": 5,
   "metadata": {},
   "outputs": [],
   "source": [
    "#historical = pd.read_csv('UNH_5secs.csv',parse_dates=['date'],index_col='date')#.set_index('date')"
   ]
  },
  {
   "cell_type": "markdown",
   "metadata": {},
   "source": [
    "### Setting the initial and final date to get days of evaluation"
   ]
  },
  {
   "cell_type": "code",
   "execution_count": 6,
   "metadata": {},
   "outputs": [
    {
     "name": "stdout",
     "output_type": "stream",
     "text": [
      "363\n"
     ]
    }
   ],
   "source": [
    "initial_date = '2018/06/08'\n",
    "final_date = '2019/06/05'\n",
    "\n",
    "delta = (pd.to_datetime(final_date) - pd.to_datetime(initial_date)).days + 1\n",
    "print(delta)"
   ]
  },
  {
   "cell_type": "code",
   "execution_count": 7,
   "metadata": {},
   "outputs": [],
   "source": [
    "dates = [str((pd.to_datetime(initial_date) + timedelta(days=x)).strftime(\"%Y/%m/%d\")) for x in range(delta)]"
   ]
  },
  {
   "cell_type": "code",
   "execution_count": 8,
   "metadata": {},
   "outputs": [],
   "source": [
    "total_0 = pd.DataFrame(total_0)"
   ]
  },
  {
   "cell_type": "markdown",
   "metadata": {},
   "source": [
    "### Main Code to calculate the backtesting results"
   ]
  },
  {
   "cell_type": "code",
   "execution_count": 9,
   "metadata": {},
   "outputs": [
    {
     "data": {
      "text/plain": [
       "\"for i in range(delta):    \\n    #Getting date\\n    date = dates[i]\\n\\n    #Getting the historical piece of data to evaluate\\n    hist = historical.loc[date,:]\\n\\n    #Getting the max and mix from historical data. Calculating lots and target\\n    if (hist.empty == False):\\n        maximum = hist.high.rolling(num_bars_h).max()[num_bars_h-1]\\n        minimum = hist.low.rolling(num_bars_h).min()[num_bars_h-1]\\n        range_tam = round(maximum - minimum,2)\\n        target = 1.27\\n        lots = math.floor((account*risk)/(maximum-minimum)) \\n    else:\\n        maximum = minimum = 0\\n        range_tam = target = lots = 0\\n        max_high = min_low = 0\\n        exit_buy = exit_sell = 0\\n        calc_sell = calc_buy = False\\n\\n    #When to buy and sell\\n    hist['in_buy'] = hist['high'] > maximum\\n    hist['in_sell'] = hist['low'] < minimum\\n\\n    if (hist.in_sell.sum() > 0):\\n        calc_sell = True\\n        price_sell = round(minimum - 0.02,2)\\n        in_sell_bar = list(hist['in_sell'])\\n        in_sell_bar = in_sell_bar.index(True)\\n        highs_sell = hist.iloc[in_sell_bar:,1]\\n        lows_sell = hist.iloc[in_sell_bar:,2]\\n    else:\\n        calc_sell = False\\n        price_sell = 0\\n\\n    if (hist.in_buy.sum() > 0):\\n        calc_buy = True\\n        price_buy = round(maximum + 0.02,2)\\n        in_buy_bar = list(hist['in_buy'])\\n        in_buy_bar = in_buy_bar.index(True)\\n        highs_buy = hist.iloc[in_buy_bar:,1]\\n        lows_buy = hist.iloc[in_buy_bar:,2]\\n    else:\\n        calc_buy = False\\n        price_buy = 0\\n\\n    #Determining when to exit\\n    ##sells\\n    if (calc_sell == True):    \\n        for k in range(len(lows_sell)):\\n            if (k == 0):\\n                new_high_sells = highs_sell[k]\\n                new_low_sells = lows_sell[k]\\n            if (k > 0):\\n                if (highs_sell[k] > new_high_sells):\\n                    new_high_sells = highs_sell[k]\\n                if (lows_sell[k] < new_low_sells):\\n                    new_low_sells = lows_sell[k]\\n\\n            profit_sell_pos = round(price_sell - new_low_sells ,2)\\n            profit_sell_neg = round(price_sell - new_high_sells , 2)\\n            if (profit_sell_neg < -range_tam ):\\n                profit_sell_neg = -range_tam\\n\\n            if (profit_sell_pos > target):\\n                exit_target_sell = True\\n                exit_sell = target\\n            if (exit_target_sell == False) and (new_high_sells > maximum):\\n                exit_range_sell = True\\n                exit_sell = round(price_sell - maximum,2)\\n            if (exit_target_sell == False) and (exit_range_sell == False) and (k == len(lows_sell)-1):\\n                exit_hour_sell = True\\n                exit_sell = round(price_sell - hist.iloc[-1,3],2)\\n    else:\\n        exit_sell = 0\\n        profit_sell_pos = 0\\n        profit_sell_neg = 0\\n\\n    ##buys\\n    if(calc_buy == True):    \\n        for j in range(len(highs_buy)):\\n            if (j == 0):\\n                new_high_buys = highs_buy[j]\\n                new_low_buys = lows_buy[j]\\n            if(j > 0):\\n                if (highs_buy[j] > new_high_buys):\\n                    new_high_buys = highs_buy[j]\\n                if(lows_buy[j] < new_low_buys):\\n                    new_low_buys = lows_buy[j]\\n\\n            profit_buy_pos = round(new_high_buys - price_buy ,2)\\n            profit_buy_neg = round(new_low_buys - price_buy, 2)\\n            if (profit_buy_neg < -range_tam ):\\n                profit_buy_neg = -range_tam\\n\\n            if (profit_buy_pos > target):\\n                exit_target_buy = True\\n                exit_buy = target\\n            if (exit_target_buy == False) and (new_low_buys < minimum):\\n                exit_range_buy = True\\n                exit_buy = round(minimum - price_buy,2)\\n            if (exit_target_buy == False) and (exit_range_buy == False) and (j == len(highs_buy)-1):\\n                exit_hour_buy = True\\n                exit_buy = round(hist.iloc[-1,3] - price_buy,2)\\n    else:\\n        exit_buy = 0\\n        profit_buy_pos = 0\\n        profit_buy_neg = 0\\n\\n    #Getting results\\n    results = [date, exit_buy, exit_sell, profit_buy_pos, profit_sell_pos,\\n               profit_buy_neg, profit_sell_neg, lots]\\n    results = pd.DataFrame(results).T.set_index(0)\\n\\n    #Appending results\\n    total_0 = pd.concat([total_0,results])\\n\\n    #restart variables in each iteration\\n    profit_buy_pos = profit_sell_pos = 0\\n    profit_buy_neg = profit_sell_neg = 0\\n    exit_buy = exit_sell = 0\\n    exit_target_sell = exit_range_sell = False\\n    exit_hour_sell = exit_target_buy = False\\n    exit_range_buy = exit_hour_buy = False\\n    calc_buy = calc_sell = False\\n    \\n    printProgressBar(i + 1, delta   , prefix = 'Progress:', suffix = 'Complete', length = 50)\""
      ]
     },
     "execution_count": 9,
     "metadata": {},
     "output_type": "execute_result"
    }
   ],
   "source": [
    "'''for i in range(delta):    \n",
    "    #Getting date\n",
    "    date = dates[i]\n",
    "\n",
    "    #Getting the historical piece of data to evaluate\n",
    "    hist = historical.loc[date,:]\n",
    "\n",
    "    #Getting the max and mix from historical data. Calculating lots and target\n",
    "    if (hist.empty == False):\n",
    "        maximum = hist.high.rolling(num_bars_h).max()[num_bars_h-1]\n",
    "        minimum = hist.low.rolling(num_bars_h).min()[num_bars_h-1]\n",
    "        range_tam = round(maximum - minimum,2)\n",
    "        target = 1.27\n",
    "        lots = math.floor((account*risk)/(maximum-minimum)) \n",
    "    else:\n",
    "        maximum = minimum = 0\n",
    "        range_tam = target = lots = 0\n",
    "        max_high = min_low = 0\n",
    "        exit_buy = exit_sell = 0\n",
    "        calc_sell = calc_buy = False\n",
    "\n",
    "    #When to buy and sell\n",
    "    hist['in_buy'] = hist['high'] > maximum\n",
    "    hist['in_sell'] = hist['low'] < minimum\n",
    "\n",
    "    if (hist.in_sell.sum() > 0):\n",
    "        calc_sell = True\n",
    "        price_sell = round(minimum - 0.02,2)\n",
    "        in_sell_bar = list(hist['in_sell'])\n",
    "        in_sell_bar = in_sell_bar.index(True)\n",
    "        highs_sell = hist.iloc[in_sell_bar:,1]\n",
    "        lows_sell = hist.iloc[in_sell_bar:,2]\n",
    "    else:\n",
    "        calc_sell = False\n",
    "        price_sell = 0\n",
    "\n",
    "    if (hist.in_buy.sum() > 0):\n",
    "        calc_buy = True\n",
    "        price_buy = round(maximum + 0.02,2)\n",
    "        in_buy_bar = list(hist['in_buy'])\n",
    "        in_buy_bar = in_buy_bar.index(True)\n",
    "        highs_buy = hist.iloc[in_buy_bar:,1]\n",
    "        lows_buy = hist.iloc[in_buy_bar:,2]\n",
    "    else:\n",
    "        calc_buy = False\n",
    "        price_buy = 0\n",
    "\n",
    "    #Determining when to exit\n",
    "    ##sells\n",
    "    if (calc_sell == True):    \n",
    "        for k in range(len(lows_sell)):\n",
    "            if (k == 0):\n",
    "                new_high_sells = highs_sell[k]\n",
    "                new_low_sells = lows_sell[k]\n",
    "            if (k > 0):\n",
    "                if (highs_sell[k] > new_high_sells):\n",
    "                    new_high_sells = highs_sell[k]\n",
    "                if (lows_sell[k] < new_low_sells):\n",
    "                    new_low_sells = lows_sell[k]\n",
    "\n",
    "            profit_sell_pos = round(price_sell - new_low_sells ,2)\n",
    "            profit_sell_neg = round(price_sell - new_high_sells , 2)\n",
    "            if (profit_sell_neg < -range_tam ):\n",
    "                profit_sell_neg = -range_tam\n",
    "\n",
    "            if (profit_sell_pos > target):\n",
    "                exit_target_sell = True\n",
    "                exit_sell = target\n",
    "            if (exit_target_sell == False) and (new_high_sells > maximum):\n",
    "                exit_range_sell = True\n",
    "                exit_sell = round(price_sell - maximum,2)\n",
    "            if (exit_target_sell == False) and (exit_range_sell == False) and (k == len(lows_sell)-1):\n",
    "                exit_hour_sell = True\n",
    "                exit_sell = round(price_sell - hist.iloc[-1,3],2)\n",
    "    else:\n",
    "        exit_sell = 0\n",
    "        profit_sell_pos = 0\n",
    "        profit_sell_neg = 0\n",
    "\n",
    "    ##buys\n",
    "    if(calc_buy == True):    \n",
    "        for j in range(len(highs_buy)):\n",
    "            if (j == 0):\n",
    "                new_high_buys = highs_buy[j]\n",
    "                new_low_buys = lows_buy[j]\n",
    "            if(j > 0):\n",
    "                if (highs_buy[j] > new_high_buys):\n",
    "                    new_high_buys = highs_buy[j]\n",
    "                if(lows_buy[j] < new_low_buys):\n",
    "                    new_low_buys = lows_buy[j]\n",
    "\n",
    "            profit_buy_pos = round(new_high_buys - price_buy ,2)\n",
    "            profit_buy_neg = round(new_low_buys - price_buy, 2)\n",
    "            if (profit_buy_neg < -range_tam ):\n",
    "                profit_buy_neg = -range_tam\n",
    "\n",
    "            if (profit_buy_pos > target):\n",
    "                exit_target_buy = True\n",
    "                exit_buy = target\n",
    "            if (exit_target_buy == False) and (new_low_buys < minimum):\n",
    "                exit_range_buy = True\n",
    "                exit_buy = round(minimum - price_buy,2)\n",
    "            if (exit_target_buy == False) and (exit_range_buy == False) and (j == len(highs_buy)-1):\n",
    "                exit_hour_buy = True\n",
    "                exit_buy = round(hist.iloc[-1,3] - price_buy,2)\n",
    "    else:\n",
    "        exit_buy = 0\n",
    "        profit_buy_pos = 0\n",
    "        profit_buy_neg = 0\n",
    "\n",
    "    #Getting results\n",
    "    results = [date, exit_buy, exit_sell, profit_buy_pos, profit_sell_pos,\n",
    "               profit_buy_neg, profit_sell_neg, lots]\n",
    "    results = pd.DataFrame(results).T.set_index(0)\n",
    "\n",
    "    #Appending results\n",
    "    total_0 = pd.concat([total_0,results])\n",
    "\n",
    "    #restart variables in each iteration\n",
    "    profit_buy_pos = profit_sell_pos = 0\n",
    "    profit_buy_neg = profit_sell_neg = 0\n",
    "    exit_buy = exit_sell = 0\n",
    "    exit_target_sell = exit_range_sell = False\n",
    "    exit_hour_sell = exit_target_buy = False\n",
    "    exit_range_buy = exit_hour_buy = False\n",
    "    calc_buy = calc_sell = False\n",
    "    \n",
    "    printProgressBar(i + 1, delta   , prefix = 'Progress:', suffix = 'Complete', length = 50)'''"
   ]
  },
  {
   "cell_type": "code",
   "execution_count": 10,
   "metadata": {},
   "outputs": [
    {
     "data": {
      "text/plain": [
       "\"total_0.index.names = ['date']\\ntotal_0.columns = ['final profit buy', 'final profit sell', \\n                 'max profit buy', 'max profit sell', \\n                 'min profit buy', 'min profit sell', 'lots']\""
      ]
     },
     "execution_count": 10,
     "metadata": {},
     "output_type": "execute_result"
    }
   ],
   "source": [
    "'''total_0.index.names = ['date']\n",
    "total_0.columns = ['final profit buy', 'final profit sell', \n",
    "                 'max profit buy', 'max profit sell', \n",
    "                 'min profit buy', 'min profit sell', 'lots']'''"
   ]
  },
  {
   "cell_type": "code",
   "execution_count": 11,
   "metadata": {},
   "outputs": [],
   "source": [
    "#total_0.to_excel('total_0.xlsx')"
   ]
  },
  {
   "cell_type": "code",
   "execution_count": 12,
   "metadata": {},
   "outputs": [],
   "source": [
    "total = pd.read_excel('total_0.xlsx').set_index('date')"
   ]
  },
  {
   "cell_type": "markdown",
   "metadata": {},
   "source": [
    "### Profit by day"
   ]
  },
  {
   "cell_type": "code",
   "execution_count": 13,
   "metadata": {},
   "outputs": [],
   "source": [
    "total['profit usd'] = (total['final profit buy'] + total['final profit sell']) * total['lots']"
   ]
  },
  {
   "cell_type": "markdown",
   "metadata": {},
   "source": [
    "### Acumulated Profit"
   ]
  },
  {
   "cell_type": "code",
   "execution_count": 14,
   "metadata": {},
   "outputs": [],
   "source": [
    "total['accumulated profit'] = total['profit usd'].cumsum() + account"
   ]
  },
  {
   "cell_type": "code",
   "execution_count": 15,
   "metadata": {},
   "outputs": [],
   "source": [
    "total['max profit'] = total['accumulated profit'].cummax()"
   ]
  },
  {
   "cell_type": "markdown",
   "metadata": {},
   "source": [
    "### Instantiating Backtesting class"
   ]
  },
  {
   "cell_type": "code",
   "execution_count": 16,
   "metadata": {},
   "outputs": [],
   "source": [
    "back = Backtesting_Strategy(total)"
   ]
  },
  {
   "cell_type": "markdown",
   "metadata": {},
   "source": [
    "### Backtesting Results"
   ]
  },
  {
   "cell_type": "markdown",
   "metadata": {},
   "source": [
    "### 1. Total Profit (USD)"
   ]
  },
  {
   "cell_type": "code",
   "execution_count": 17,
   "metadata": {},
   "outputs": [
    {
     "name": "stdout",
     "output_type": "stream",
     "text": [
      "total profit (USD):  17587.36\n"
     ]
    }
   ],
   "source": [
    "total_profit_usd = back.final_profit_usd()\n",
    "print('total profit (USD): ', total_profit_usd)"
   ]
  },
  {
   "cell_type": "markdown",
   "metadata": {},
   "source": [
    "#### profit in ticks (mean)"
   ]
  },
  {
   "cell_type": "code",
   "execution_count": 18,
   "metadata": {},
   "outputs": [
    {
     "name": "stdout",
     "output_type": "stream",
     "text": [
      "profit buy mean(ticks):  1.84\n"
     ]
    }
   ],
   "source": [
    "profit_buy_mean = round(((total['max profit buy']).loc[(total['max profit buy']) != 0]).mean(),2)\n",
    "print('profit buy mean(ticks): ',profit_buy_mean)"
   ]
  },
  {
   "cell_type": "code",
   "execution_count": 19,
   "metadata": {},
   "outputs": [
    {
     "name": "stdout",
     "output_type": "stream",
     "text": [
      "profit sell mean(ticks):  2.54\n"
     ]
    }
   ],
   "source": [
    "profit_sell_mean = round(((total['max profit sell']).loc[(total['max profit sell']) != 0]).mean(),2)\n",
    "print('profit sell mean(ticks): ',profit_sell_mean)"
   ]
  },
  {
   "cell_type": "code",
   "execution_count": 20,
   "metadata": {},
   "outputs": [
    {
     "name": "stdout",
     "output_type": "stream",
     "text": [
      "profit mean (ticks):  2.19\n"
     ]
    }
   ],
   "source": [
    "profit_mean = (profit_buy_mean + profit_sell_mean)/2\n",
    "print('profit mean (ticks): ', profit_mean)"
   ]
  },
  {
   "cell_type": "markdown",
   "metadata": {},
   "source": [
    "### 2. Total commissions (USD)"
   ]
  },
  {
   "cell_type": "code",
   "execution_count": 21,
   "metadata": {},
   "outputs": [
    {
     "name": "stdout",
     "output_type": "stream",
     "text": [
      "total commissions (USD):  797.36\n"
     ]
    }
   ],
   "source": [
    "total_commissions = back.total_commissions()\n",
    "print('total commissions (USD): ', total_commissions)"
   ]
  },
  {
   "cell_type": "markdown",
   "metadata": {},
   "source": [
    "### 3. Net profit"
   ]
  },
  {
   "cell_type": "code",
   "execution_count": 22,
   "metadata": {},
   "outputs": [
    {
     "name": "stdout",
     "output_type": "stream",
     "text": [
      "net profit (USD):  16790.0\n"
     ]
    }
   ],
   "source": [
    "net_profit = total_profit_usd - total_commissions\n",
    "print('net profit (USD): ', net_profit)"
   ]
  },
  {
   "cell_type": "markdown",
   "metadata": {},
   "source": [
    "### 4. Gross Profit and Gross Loss (USD)"
   ]
  },
  {
   "cell_type": "code",
   "execution_count": 23,
   "metadata": {},
   "outputs": [
    {
     "name": "stdout",
     "output_type": "stream",
     "text": [
      "gross profit(USD):  41740.5  gross loss (USD):  -24153.14\n"
     ]
    }
   ],
   "source": [
    "gross_profit, gross_loss = back.gross_profit_and_loss()\n",
    "print('gross profit(USD): ', gross_profit, ' gross loss (USD): ',gross_loss)"
   ]
  },
  {
   "cell_type": "markdown",
   "metadata": {},
   "source": [
    "### 5. Profit Factor"
   ]
  },
  {
   "cell_type": "code",
   "execution_count": 40,
   "metadata": {},
   "outputs": [
    {
     "name": "stdout",
     "output_type": "stream",
     "text": [
      "profit factor:  1.73\n"
     ]
    }
   ],
   "source": [
    "profit_factor = round(abs(gross_profit/gross_loss),2)\n",
    "print('profit factor: ', profit_factor)"
   ]
  },
  {
   "cell_type": "markdown",
   "metadata": {},
   "source": [
    "### 6. Maximal Drawdown"
   ]
  },
  {
   "cell_type": "code",
   "execution_count": 25,
   "metadata": {},
   "outputs": [
    {
     "name": "stdout",
     "output_type": "stream",
     "text": [
      "maximal drawdown(usd):  1752.25  date:  2018/08/13\n"
     ]
    }
   ],
   "source": [
    "max_drawdown, max_draw_date = back.max_drawdown()\n",
    "print('maximal drawdown(usd): ', max_drawdown, ' date: ', max_draw_date)"
   ]
  },
  {
   "cell_type": "markdown",
   "metadata": {},
   "source": [
    "### 7. Relative Drawdown"
   ]
  },
  {
   "cell_type": "code",
   "execution_count": 26,
   "metadata": {},
   "outputs": [
    {
     "name": "stdout",
     "output_type": "stream",
     "text": [
      "Relative drawdown:  8.76 %\n"
     ]
    }
   ],
   "source": [
    "relative_drawdown = max_drawdown/account\n",
    "print('Relative drawdown: ', round(relative_drawdown*100,2),'%')"
   ]
  },
  {
   "cell_type": "markdown",
   "metadata": {},
   "source": [
    "### 8. Absolute Drawdown"
   ]
  },
  {
   "cell_type": "code",
   "execution_count": 27,
   "metadata": {},
   "outputs": [
    {
     "name": "stdout",
     "output_type": "stream",
     "text": [
      "Absolute Drawdown(usd): 0\n"
     ]
    }
   ],
   "source": [
    "absolute_drawdown = back.absolute_drawdown(account)\n",
    "print('Absolute Drawdown(usd):', absolute_drawdown)"
   ]
  },
  {
   "cell_type": "markdown",
   "metadata": {},
   "source": [
    "### 9. Maximal Drawdown Period and date"
   ]
  },
  {
   "cell_type": "code",
   "execution_count": 28,
   "metadata": {},
   "outputs": [
    {
     "name": "stdout",
     "output_type": "stream",
     "text": [
      "Max. number of days in DD:  95 , between days:  ['2018/06/26', '2018/09/28']\n"
     ]
    }
   ],
   "source": [
    "max_dd_days, dates_max_dd = back.max_drawdown_date(account)\n",
    "print('Max. number of days in DD: ', max_dd_days, ', between days: ', dates_max_dd)"
   ]
  },
  {
   "cell_type": "markdown",
   "metadata": {},
   "source": [
    "### 10. Trades Info"
   ]
  },
  {
   "cell_type": "markdown",
   "metadata": {},
   "source": [
    "#### 10.1. Total transactions"
   ]
  },
  {
   "cell_type": "code",
   "execution_count": 29,
   "metadata": {},
   "outputs": [
    {
     "name": "stdout",
     "output_type": "stream",
     "text": [
      "total trades:  375  positive trades:  236  negative trades:  139 \n",
      "Total Percent profitable:  62.93 %\n"
     ]
    }
   ],
   "source": [
    "total_trades, total_positive, total_negative, percent_total = back.transactions_info('total')\n",
    "print('total trades: ', total_trades, ' positive trades: ',total_positive, ' negative trades: ', total_negative,\n",
    "      '\\nTotal Percent profitable: ', round(percent_total*100,2),'%')"
   ]
  },
  {
   "cell_type": "markdown",
   "metadata": {},
   "source": [
    "#### 10.2. Short transactions"
   ]
  },
  {
   "cell_type": "code",
   "execution_count": 30,
   "metadata": {},
   "outputs": [
    {
     "name": "stdout",
     "output_type": "stream",
     "text": [
      "total sell trades:  191  positive shorts:  120  negative shorts:  71 \n",
      "Percent profitable shorts:  62.83 %\n"
     ]
    }
   ],
   "source": [
    "short_trades, positive_shorts, negative_shorts, percent_shorts = back.transactions_info('shorts')\n",
    "print('total sell trades: ', short_trades, ' positive shorts: ',positive_shorts, ' negative shorts: ',negative_shorts,\n",
    "      '\\nPercent profitable shorts: ', round(percent_shorts*100,2),'%')"
   ]
  },
  {
   "cell_type": "markdown",
   "metadata": {},
   "source": [
    "#### 10.3. Long transactions"
   ]
  },
  {
   "cell_type": "code",
   "execution_count": 31,
   "metadata": {},
   "outputs": [
    {
     "name": "stdout",
     "output_type": "stream",
     "text": [
      "total buy trades:  184  positive longs:  116  negative longs:  68 \n",
      "Percent profitable longs:  63.04 %\n"
     ]
    }
   ],
   "source": [
    "long_trades, positive_longs, negative_longs, percent_longs = back.transactions_info('longs')\n",
    "print('total buy trades: ', long_trades, ' positive longs: ',positive_longs,  ' negative longs: ',negative_longs,\n",
    "      '\\nPercent profitable longs: ', round(percent_longs*100,2),'%')"
   ]
  },
  {
   "cell_type": "markdown",
   "metadata": {},
   "source": [
    "### 11. Expected Payoff"
   ]
  },
  {
   "cell_type": "code",
   "execution_count": 41,
   "metadata": {},
   "outputs": [
    {
     "name": "stdout",
     "output_type": "stream",
     "text": [
      "Expected Payoff:  44.77\n"
     ]
    }
   ],
   "source": [
    "expected_payoff = round((total_profit_usd - total_commissions) / total_trades,2)\n",
    "print('Expected Payoff: ', expected_payoff)"
   ]
  },
  {
   "cell_type": "markdown",
   "metadata": {},
   "source": [
    "### 12. Greater Transactions"
   ]
  },
  {
   "cell_type": "markdown",
   "metadata": {},
   "source": [
    "#### 12.1. Profitable"
   ]
  },
  {
   "cell_type": "code",
   "execution_count": 33,
   "metadata": {},
   "outputs": [
    {
     "name": "stdout",
     "output_type": "stream",
     "text": [
      "Greater Profitable transaction:  1209.04\n"
     ]
    }
   ],
   "source": [
    "greater_prof = back.greater_transactions('profitable')\n",
    "print('Greater Profitable transaction: ' , greater_prof)"
   ]
  },
  {
   "cell_type": "markdown",
   "metadata": {},
   "source": [
    "#### 12.1. Non Profitable"
   ]
  },
  {
   "cell_type": "code",
   "execution_count": 34,
   "metadata": {},
   "outputs": [
    {
     "name": "stdout",
     "output_type": "stream",
     "text": [
      "Greater non Profitable transaction:  -209.3\n"
     ]
    }
   ],
   "source": [
    "greater_non_prof = back.greater_transactions('non profitable')\n",
    "print('Greater non Profitable transaction: ' , greater_non_prof)"
   ]
  },
  {
   "cell_type": "markdown",
   "metadata": {},
   "source": [
    "### 13. Average Transactions"
   ]
  },
  {
   "cell_type": "markdown",
   "metadata": {},
   "source": [
    "#### 13.1. Profitable"
   ]
  },
  {
   "cell_type": "code",
   "execution_count": 37,
   "metadata": {},
   "outputs": [
    {
     "name": "stdout",
     "output_type": "stream",
     "text": [
      "Average profitable transaction:  176.87\n"
     ]
    }
   ],
   "source": [
    "average_prof = back.average_transaction('profitable')\n",
    "print('Average profitable transaction: ', average_prof)"
   ]
  },
  {
   "cell_type": "markdown",
   "metadata": {},
   "source": [
    "#### 13.2. Non Profitable"
   ]
  },
  {
   "cell_type": "code",
   "execution_count": 38,
   "metadata": {},
   "outputs": [
    {
     "name": "stdout",
     "output_type": "stream",
     "text": [
      "Average non profitable transaction:  -173.76\n"
     ]
    }
   ],
   "source": [
    "average_non_prof = back.average_transaction('non profitable')\n",
    "print('Average non profitable transaction: ', average_non_prof)"
   ]
  },
  {
   "cell_type": "code",
   "execution_count": 42,
   "metadata": {},
   "outputs": [],
   "source": [
    "final_metrics = {}\n",
    "final_metrics = {'Initial Account (usd)': account, 'Total profit (usd)': total_profit_usd, 'Total Commissions (usd)': total_commissions, \n",
    "                 'Net Profit (usd)': net_profit, 'Gross Profit (usd)': gross_profit, 'Gross Loss (usd)': gross_loss, \n",
    "                 'Profit Factor': profit_factor, 'Maximal Drawdown (usd)': max_drawdown, 'Maximal Drawdown Date': max_draw_date,\n",
    "                 'Relative Drawdown (%)': round(relative_drawdown*100,2), 'Absolute Drawdown (usd)': absolute_drawdown,  \n",
    "                 'Maximal period in Drawdown (days)': max_dd_days, 'Dates of max. DD period': str(dates_max_dd), \n",
    "                 'Total Transactions': total_trades, 'Winning Trades': total_positive, 'Winning Trades (%)': round(percent_total*100,2),\n",
    "                 'Losing Trades': total_negative, 'Losing Trades (%)': round(100-(percent_total*100),2),\n",
    "                 'Short Positions': short_trades, 'Winning Shorts': positive_shorts, 'Winning Shorts (%)': round(percent_shorts*100,2),\n",
    "                 'Losing Shorts': negative_shorts, 'Losing Shorts(%)': round(100-(percent_shorts*100),2),\n",
    "                 'Long Positions': long_trades, 'Winning Longs': positive_longs, 'Winning Longs (%)': round(percent_longs*100,2),\n",
    "                 'Losing Longs:': negative_longs, 'Losing Longs(%)': round(100-(percent_longs*100),2),\n",
    "                 'Expected Payoff (usd)': expected_payoff,\n",
    "                 'Greater Profitable Transaction (usd)': greater_prof, 'Greater non Profitable Transaction (usd)': greater_non_prof,\n",
    "                 'Profitable Transaction Average (usd)': average_prof, 'Non Profitable Transaction Average (usd)': average_non_prof}"
   ]
  },
  {
   "cell_type": "code",
   "execution_count": 43,
   "metadata": {},
   "outputs": [
    {
     "data": {
      "text/html": [
       "<div>\n",
       "<style scoped>\n",
       "    .dataframe tbody tr th:only-of-type {\n",
       "        vertical-align: middle;\n",
       "    }\n",
       "\n",
       "    .dataframe tbody tr th {\n",
       "        vertical-align: top;\n",
       "    }\n",
       "\n",
       "    .dataframe thead th {\n",
       "        text-align: right;\n",
       "    }\n",
       "</style>\n",
       "<table border=\"1\" class=\"dataframe\">\n",
       "  <thead>\n",
       "    <tr style=\"text-align: right;\">\n",
       "      <th></th>\n",
       "      <th>Values</th>\n",
       "    </tr>\n",
       "    <tr>\n",
       "      <th>Metric</th>\n",
       "      <th></th>\n",
       "    </tr>\n",
       "  </thead>\n",
       "  <tbody>\n",
       "    <tr>\n",
       "      <th>Initial Account (usd)</th>\n",
       "      <td>20000</td>\n",
       "    </tr>\n",
       "    <tr>\n",
       "      <th>Total profit (usd)</th>\n",
       "      <td>17587.4</td>\n",
       "    </tr>\n",
       "    <tr>\n",
       "      <th>Total Commissions (usd)</th>\n",
       "      <td>797.36</td>\n",
       "    </tr>\n",
       "    <tr>\n",
       "      <th>Net Profit (usd)</th>\n",
       "      <td>16790</td>\n",
       "    </tr>\n",
       "    <tr>\n",
       "      <th>Gross Profit (usd)</th>\n",
       "      <td>41740.5</td>\n",
       "    </tr>\n",
       "    <tr>\n",
       "      <th>Gross Loss (usd)</th>\n",
       "      <td>-24153.1</td>\n",
       "    </tr>\n",
       "    <tr>\n",
       "      <th>Profit Factor</th>\n",
       "      <td>1.73</td>\n",
       "    </tr>\n",
       "    <tr>\n",
       "      <th>Maximal Drawdown (usd)</th>\n",
       "      <td>1752.25</td>\n",
       "    </tr>\n",
       "    <tr>\n",
       "      <th>Maximal Drawdown Date</th>\n",
       "      <td>2018/08/13</td>\n",
       "    </tr>\n",
       "    <tr>\n",
       "      <th>Relative Drawdown (%)</th>\n",
       "      <td>8.76</td>\n",
       "    </tr>\n",
       "    <tr>\n",
       "      <th>Absolute Drawdown (usd)</th>\n",
       "      <td>0</td>\n",
       "    </tr>\n",
       "    <tr>\n",
       "      <th>Maximal period in Drawdown (days)</th>\n",
       "      <td>95</td>\n",
       "    </tr>\n",
       "    <tr>\n",
       "      <th>Dates of max. DD period</th>\n",
       "      <td>['2018/06/26', '2018/09/28']</td>\n",
       "    </tr>\n",
       "    <tr>\n",
       "      <th>Total Transactions</th>\n",
       "      <td>375</td>\n",
       "    </tr>\n",
       "    <tr>\n",
       "      <th>Winning Trades</th>\n",
       "      <td>236</td>\n",
       "    </tr>\n",
       "    <tr>\n",
       "      <th>Winning Trades (%)</th>\n",
       "      <td>62.93</td>\n",
       "    </tr>\n",
       "    <tr>\n",
       "      <th>Losing Trades</th>\n",
       "      <td>139</td>\n",
       "    </tr>\n",
       "    <tr>\n",
       "      <th>Losing Trades (%)</th>\n",
       "      <td>37.07</td>\n",
       "    </tr>\n",
       "    <tr>\n",
       "      <th>Short Positions</th>\n",
       "      <td>191</td>\n",
       "    </tr>\n",
       "    <tr>\n",
       "      <th>Winning Shorts</th>\n",
       "      <td>120</td>\n",
       "    </tr>\n",
       "    <tr>\n",
       "      <th>Winning Shorts (%)</th>\n",
       "      <td>62.83</td>\n",
       "    </tr>\n",
       "    <tr>\n",
       "      <th>Losing Shorts</th>\n",
       "      <td>71</td>\n",
       "    </tr>\n",
       "    <tr>\n",
       "      <th>Losing Shorts(%)</th>\n",
       "      <td>37.17</td>\n",
       "    </tr>\n",
       "    <tr>\n",
       "      <th>Long Positions</th>\n",
       "      <td>184</td>\n",
       "    </tr>\n",
       "    <tr>\n",
       "      <th>Winning Longs</th>\n",
       "      <td>116</td>\n",
       "    </tr>\n",
       "    <tr>\n",
       "      <th>Winning Longs (%)</th>\n",
       "      <td>63.04</td>\n",
       "    </tr>\n",
       "    <tr>\n",
       "      <th>Losing Longs:</th>\n",
       "      <td>68</td>\n",
       "    </tr>\n",
       "    <tr>\n",
       "      <th>Losing Longs(%)</th>\n",
       "      <td>36.96</td>\n",
       "    </tr>\n",
       "    <tr>\n",
       "      <th>Expected Payoff (usd)</th>\n",
       "      <td>44.77</td>\n",
       "    </tr>\n",
       "    <tr>\n",
       "      <th>Greater Profitable Transaction (usd)</th>\n",
       "      <td>1209.04</td>\n",
       "    </tr>\n",
       "    <tr>\n",
       "      <th>Greater non Profitable Transaction (usd)</th>\n",
       "      <td>-209.3</td>\n",
       "    </tr>\n",
       "    <tr>\n",
       "      <th>Profitable Transaction Average (usd)</th>\n",
       "      <td>176.87</td>\n",
       "    </tr>\n",
       "    <tr>\n",
       "      <th>Non Profitable Transaction Average (usd)</th>\n",
       "      <td>-173.76</td>\n",
       "    </tr>\n",
       "  </tbody>\n",
       "</table>\n",
       "</div>"
      ],
      "text/plain": [
       "                                                                Values\n",
       "Metric                                                                \n",
       "Initial Account (usd)                                            20000\n",
       "Total profit (usd)                                             17587.4\n",
       "Total Commissions (usd)                                         797.36\n",
       "Net Profit (usd)                                                 16790\n",
       "Gross Profit (usd)                                             41740.5\n",
       "Gross Loss (usd)                                              -24153.1\n",
       "Profit Factor                                                     1.73\n",
       "Maximal Drawdown (usd)                                         1752.25\n",
       "Maximal Drawdown Date                                       2018/08/13\n",
       "Relative Drawdown (%)                                             8.76\n",
       "Absolute Drawdown (usd)                                              0\n",
       "Maximal period in Drawdown (days)                                   95\n",
       "Dates of max. DD period                   ['2018/06/26', '2018/09/28']\n",
       "Total Transactions                                                 375\n",
       "Winning Trades                                                     236\n",
       "Winning Trades (%)                                               62.93\n",
       "Losing Trades                                                      139\n",
       "Losing Trades (%)                                                37.07\n",
       "Short Positions                                                    191\n",
       "Winning Shorts                                                     120\n",
       "Winning Shorts (%)                                               62.83\n",
       "Losing Shorts                                                       71\n",
       "Losing Shorts(%)                                                 37.17\n",
       "Long Positions                                                     184\n",
       "Winning Longs                                                      116\n",
       "Winning Longs (%)                                                63.04\n",
       "Losing Longs:                                                       68\n",
       "Losing Longs(%)                                                  36.96\n",
       "Expected Payoff (usd)                                            44.77\n",
       "Greater Profitable Transaction (usd)                           1209.04\n",
       "Greater non Profitable Transaction (usd)                        -209.3\n",
       "Profitable Transaction Average (usd)                            176.87\n",
       "Non Profitable Transaction Average (usd)                       -173.76"
      ]
     },
     "execution_count": 43,
     "metadata": {},
     "output_type": "execute_result"
    }
   ],
   "source": [
    "final_metrics = pd.DataFrame(final_metrics, index = [0]).T\n",
    "final_metrics.index.names = ['Metric']\n",
    "final_metrics.columns = ['Values']\n",
    "final_metrics"
   ]
  },
  {
   "cell_type": "code",
   "execution_count": null,
   "metadata": {},
   "outputs": [],
   "source": [
    "final_metrics.to_excel(instrument+'_'+str(tempo)+'Min.xlsx')"
   ]
  },
  {
   "cell_type": "code",
   "execution_count": null,
   "metadata": {},
   "outputs": [],
   "source": [
    "total.to_excel('total_'+instrument+'_'+str(tempo)+'Min.xlsx')"
   ]
  },
  {
   "cell_type": "code",
   "execution_count": null,
   "metadata": {},
   "outputs": [],
   "source": [
    "total['accumulated profit'].plot(figsize=(18,10),label='accumulated',color='black',lw=2)\n",
    "total['max profit'].plot(color='red',label='max',ls='-',alpha=0.7)\n",
    "plt.xlabel('Date')\n",
    "plt.ylabel('Profit')\n",
    "plt.title('Results '+instrument+' '+str(tempo)+' Min')\n",
    "plt.legend()\n",
    "plt.savefig(instrument+'_'+str(tempo)+'Min.png')"
   ]
  },
  {
   "cell_type": "code",
   "execution_count": null,
   "metadata": {},
   "outputs": [],
   "source": []
  }
 ],
 "metadata": {
  "kernelspec": {
   "display_name": "Python 3",
   "language": "python",
   "name": "python3"
  },
  "language_info": {
   "codemirror_mode": {
    "name": "ipython",
    "version": 3
   },
   "file_extension": ".py",
   "mimetype": "text/x-python",
   "name": "python",
   "nbconvert_exporter": "python",
   "pygments_lexer": "ipython3",
   "version": "3.7.3"
  }
 },
 "nbformat": 4,
 "nbformat_minor": 2
}
