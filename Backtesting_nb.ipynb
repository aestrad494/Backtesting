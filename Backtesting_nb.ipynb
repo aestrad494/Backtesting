{
 "cells": [
  {
   "cell_type": "markdown",
   "metadata": {},
   "source": [
    "# Backtesting Attemp 4"
   ]
  },
  {
   "cell_type": "markdown",
   "metadata": {},
   "source": [
    "### Importing Packages"
   ]
  },
  {
   "cell_type": "code",
   "execution_count": 1,
   "metadata": {},
   "outputs": [],
   "source": [
    "import pandas as pd\n",
    "import numpy as np\n",
    "import datetime\n",
    "import calendar\n",
    "import time\n",
    "import pytz\n",
    "import math\n",
    "from datetime import timedelta\n",
    "import matplotlib.pyplot as plt\n",
    "from Backtesting_Class import Backtesting_Strategy"
   ]
  },
  {
   "cell_type": "markdown",
   "metadata": {},
   "source": [
    "### Definning variable"
   ]
  },
  {
   "cell_type": "code",
   "execution_count": 2,
   "metadata": {},
   "outputs": [],
   "source": [
    "exit_target_sell = False\n",
    "exit_range_sell = False\n",
    "exit_hour_sell = False\n",
    "exit_target_buy = False\n",
    "exit_range_buy = False\n",
    "exit_hour_buy = False\n",
    "in_dd = False"
   ]
  },
  {
   "cell_type": "code",
   "execution_count": 3,
   "metadata": {},
   "outputs": [],
   "source": [
    "instrument = 'UNH'\n",
    "hora_ini = '09:30:00'\n",
    "hora_fin = '16:00:00'\n",
    "client = 100\n",
    "target = 1.27\n",
    "tempo = 5\n",
    "num_bars = 1\n",
    "tempo_h = 1/12\n",
    "num_bars_h = int((num_bars*tempo)/tempo_h)\n",
    "\n",
    "account = 20000\n",
    "risk = 0.01\n",
    "profit_buy_pos = 0\n",
    "profit_sell_pos = 0\n",
    "profit_buy_neg = 0\n",
    "profit_sell_neg = 0\n",
    "exit_buy = 0\n",
    "exit_sell = 0\n",
    "total_0 = []"
   ]
  },
  {
   "cell_type": "code",
   "execution_count": 4,
   "metadata": {},
   "outputs": [],
   "source": [
    "def printProgressBar (iteration, total, prefix = '', suffix = '', decimals = 1, length = 100, fill = '#'):\n",
    "    percent = (\"{0:.\" + str(decimals) + \"f}\").format(100 * (iteration / float(total)))\n",
    "    filledLength = int(length * iteration // total)\n",
    "    bar = fill * filledLength + '-' * (length - filledLength)\n",
    "    print('\\r%s |%s| %s%% %s' % (prefix, bar, percent, suffix), end = '\\r')\n",
    "    # Print New Line on Complete\n",
    "    if iteration == total: \n",
    "        print()"
   ]
  },
  {
   "cell_type": "markdown",
   "metadata": {},
   "source": [
    "### Download Data"
   ]
  },
  {
   "cell_type": "code",
   "execution_count": 5,
   "metadata": {},
   "outputs": [],
   "source": [
    "#historical = pd.read_csv('UNH_5secs.csv',parse_dates=['date'],index_col='date')#.set_index('date')"
   ]
  },
  {
   "cell_type": "markdown",
   "metadata": {},
   "source": [
    "### Setting the initial and final date to get days of evaluation"
   ]
  },
  {
   "cell_type": "code",
   "execution_count": 6,
   "metadata": {},
   "outputs": [
    {
     "name": "stdout",
     "output_type": "stream",
     "text": [
      "363\n"
     ]
    }
   ],
   "source": [
    "initial_date = '2018/06/08'\n",
    "final_date = '2019/06/05'\n",
    "\n",
    "delta = (pd.to_datetime(final_date) - pd.to_datetime(initial_date)).days + 1\n",
    "print(delta)"
   ]
  },
  {
   "cell_type": "code",
   "execution_count": 7,
   "metadata": {},
   "outputs": [],
   "source": [
    "dates = [str((pd.to_datetime(initial_date) + timedelta(days=x)).strftime(\"%Y/%m/%d\")) for x in range(delta)]"
   ]
  },
  {
   "cell_type": "code",
   "execution_count": 8,
   "metadata": {},
   "outputs": [],
   "source": [
    "total_0 = pd.DataFrame(total_0)"
   ]
  },
  {
   "cell_type": "markdown",
   "metadata": {},
   "source": [
    "### Main Code to calculate the backtesting results"
   ]
  },
  {
   "cell_type": "code",
   "execution_count": 9,
   "metadata": {},
   "outputs": [
    {
     "data": {
      "text/plain": [
       "\"for i in range(delta):    \\n    #Getting date\\n    date = dates[i]\\n\\n    #Getting the historical piece of data to evaluate\\n    hist = historical.loc[date,:]\\n\\n    #Getting the max and mix from historical data. Calculating lots and target\\n    if (hist.empty == False):\\n        maximum = hist.high.rolling(num_bars_h).max()[num_bars_h-1]\\n        minimum = hist.low.rolling(num_bars_h).min()[num_bars_h-1]\\n        range_tam = round(maximum - minimum,2)\\n        target = 1.27\\n        lots = math.floor((account*risk)/(maximum-minimum)) \\n    else:\\n        maximum = minimum = 0\\n        range_tam = target = lots = 0\\n        max_high = min_low = 0\\n        exit_buy = exit_sell = 0\\n        calc_sell = calc_buy = False\\n\\n    #When to buy and sell\\n    hist['in_buy'] = hist['high'] > maximum\\n    hist['in_sell'] = hist['low'] < minimum\\n\\n    if (hist.in_sell.sum() > 0):\\n        calc_sell = True\\n        price_sell = round(minimum - 0.02,2)\\n        in_sell_bar = list(hist['in_sell'])\\n        in_sell_bar = in_sell_bar.index(True)\\n        highs_sell = hist.iloc[in_sell_bar:,1]\\n        lows_sell = hist.iloc[in_sell_bar:,2]\\n    else:\\n        calc_sell = False\\n        price_sell = 0\\n\\n    if (hist.in_buy.sum() > 0):\\n        calc_buy = True\\n        price_buy = round(maximum + 0.02,2)\\n        in_buy_bar = list(hist['in_buy'])\\n        in_buy_bar = in_buy_bar.index(True)\\n        highs_buy = hist.iloc[in_buy_bar:,1]\\n        lows_buy = hist.iloc[in_buy_bar:,2]\\n    else:\\n        calc_buy = False\\n        price_buy = 0\\n\\n    #Determining when to exit\\n    ##sells\\n    if (calc_sell == True):    \\n        for k in range(len(lows_sell)):\\n            if (k == 0):\\n                new_high_sells = highs_sell[k]\\n                new_low_sells = lows_sell[k]\\n            if (k > 0):\\n                if (highs_sell[k] > new_high_sells):\\n                    new_high_sells = highs_sell[k]\\n                if (lows_sell[k] < new_low_sells):\\n                    new_low_sells = lows_sell[k]\\n\\n            profit_sell_pos = round(price_sell - new_low_sells ,2)\\n            profit_sell_neg = round(price_sell - new_high_sells , 2)\\n            if (profit_sell_neg < -range_tam ):\\n                profit_sell_neg = -range_tam\\n\\n            if (profit_sell_pos > target):\\n                exit_target_sell = True\\n                exit_sell = target\\n            if (exit_target_sell == False) and (new_high_sells > maximum):\\n                exit_range_sell = True\\n                exit_sell = round(price_sell - maximum,2)\\n            if (exit_target_sell == False) and (exit_range_sell == False) and (k == len(lows_sell)-1):\\n                exit_hour_sell = True\\n                exit_sell = round(price_sell - hist.iloc[-1,3],2)\\n    else:\\n        exit_sell = 0\\n        profit_sell_pos = 0\\n        profit_sell_neg = 0\\n\\n    ##buys\\n    if(calc_buy == True):    \\n        for j in range(len(highs_buy)):\\n            if (j == 0):\\n                new_high_buys = highs_buy[j]\\n                new_low_buys = lows_buy[j]\\n            if(j > 0):\\n                if (highs_buy[j] > new_high_buys):\\n                    new_high_buys = highs_buy[j]\\n                if(lows_buy[j] < new_low_buys):\\n                    new_low_buys = lows_buy[j]\\n\\n            profit_buy_pos = round(new_high_buys - price_buy ,2)\\n            profit_buy_neg = round(new_low_buys - price_buy, 2)\\n            if (profit_buy_neg < -range_tam ):\\n                profit_buy_neg = -range_tam\\n\\n            if (profit_buy_pos > target):\\n                exit_target_buy = True\\n                exit_buy = target\\n            if (exit_target_buy == False) and (new_low_buys < minimum):\\n                exit_range_buy = True\\n                exit_buy = round(minimum - price_buy,2)\\n            if (exit_target_buy == False) and (exit_range_buy == False) and (j == len(highs_buy)-1):\\n                exit_hour_buy = True\\n                exit_buy = round(hist.iloc[-1,3] - price_buy,2)\\n    else:\\n        exit_buy = 0\\n        profit_buy_pos = 0\\n        profit_buy_neg = 0\\n\\n    #Getting results\\n    results = [date, exit_buy, exit_sell, profit_buy_pos, profit_sell_pos,\\n               profit_buy_neg, profit_sell_neg, lots]\\n    results = pd.DataFrame(results).T.set_index(0)\\n\\n    #Appending results\\n    total_0 = pd.concat([total_0,results])\\n\\n    #restart variables in each iteration\\n    profit_buy_pos = profit_sell_pos = 0\\n    profit_buy_neg = profit_sell_neg = 0\\n    exit_buy = exit_sell = 0\\n    exit_target_sell = exit_range_sell = False\\n    exit_hour_sell = exit_target_buy = False\\n    exit_range_buy = exit_hour_buy = False\\n    calc_buy = calc_sell = False\\n    \\n    printProgressBar(i + 1, delta   , prefix = 'Progress:', suffix = 'Complete', length = 50)\""
      ]
     },
     "execution_count": 9,
     "metadata": {},
     "output_type": "execute_result"
    }
   ],
   "source": [
    "'''for i in range(delta):    \n",
    "    #Getting date\n",
    "    date = dates[i]\n",
    "\n",
    "    #Getting the historical piece of data to evaluate\n",
    "    hist = historical.loc[date,:]\n",
    "\n",
    "    #Getting the max and mix from historical data. Calculating lots and target\n",
    "    if (hist.empty == False):\n",
    "        maximum = hist.high.rolling(num_bars_h).max()[num_bars_h-1]\n",
    "        minimum = hist.low.rolling(num_bars_h).min()[num_bars_h-1]\n",
    "        range_tam = round(maximum - minimum,2)\n",
    "        target = 1.27\n",
    "        lots = math.floor((account*risk)/(maximum-minimum)) \n",
    "    else:\n",
    "        maximum = minimum = 0\n",
    "        range_tam = target = lots = 0\n",
    "        max_high = min_low = 0\n",
    "        exit_buy = exit_sell = 0\n",
    "        calc_sell = calc_buy = False\n",
    "\n",
    "    #When to buy and sell\n",
    "    hist['in_buy'] = hist['high'] > maximum\n",
    "    hist['in_sell'] = hist['low'] < minimum\n",
    "\n",
    "    if (hist.in_sell.sum() > 0):\n",
    "        calc_sell = True\n",
    "        price_sell = round(minimum - 0.02,2)\n",
    "        in_sell_bar = list(hist['in_sell'])\n",
    "        in_sell_bar = in_sell_bar.index(True)\n",
    "        highs_sell = hist.iloc[in_sell_bar:,1]\n",
    "        lows_sell = hist.iloc[in_sell_bar:,2]\n",
    "    else:\n",
    "        calc_sell = False\n",
    "        price_sell = 0\n",
    "\n",
    "    if (hist.in_buy.sum() > 0):\n",
    "        calc_buy = True\n",
    "        price_buy = round(maximum + 0.02,2)\n",
    "        in_buy_bar = list(hist['in_buy'])\n",
    "        in_buy_bar = in_buy_bar.index(True)\n",
    "        highs_buy = hist.iloc[in_buy_bar:,1]\n",
    "        lows_buy = hist.iloc[in_buy_bar:,2]\n",
    "    else:\n",
    "        calc_buy = False\n",
    "        price_buy = 0\n",
    "\n",
    "    #Determining when to exit\n",
    "    ##sells\n",
    "    if (calc_sell == True):    \n",
    "        for k in range(len(lows_sell)):\n",
    "            if (k == 0):\n",
    "                new_high_sells = highs_sell[k]\n",
    "                new_low_sells = lows_sell[k]\n",
    "            if (k > 0):\n",
    "                if (highs_sell[k] > new_high_sells):\n",
    "                    new_high_sells = highs_sell[k]\n",
    "                if (lows_sell[k] < new_low_sells):\n",
    "                    new_low_sells = lows_sell[k]\n",
    "\n",
    "            profit_sell_pos = round(price_sell - new_low_sells ,2)\n",
    "            profit_sell_neg = round(price_sell - new_high_sells , 2)\n",
    "            if (profit_sell_neg < -range_tam ):\n",
    "                profit_sell_neg = -range_tam\n",
    "\n",
    "            if (profit_sell_pos > target):\n",
    "                exit_target_sell = True\n",
    "                exit_sell = target\n",
    "            if (exit_target_sell == False) and (new_high_sells > maximum):\n",
    "                exit_range_sell = True\n",
    "                exit_sell = round(price_sell - maximum,2)\n",
    "            if (exit_target_sell == False) and (exit_range_sell == False) and (k == len(lows_sell)-1):\n",
    "                exit_hour_sell = True\n",
    "                exit_sell = round(price_sell - hist.iloc[-1,3],2)\n",
    "    else:\n",
    "        exit_sell = 0\n",
    "        profit_sell_pos = 0\n",
    "        profit_sell_neg = 0\n",
    "\n",
    "    ##buys\n",
    "    if(calc_buy == True):    \n",
    "        for j in range(len(highs_buy)):\n",
    "            if (j == 0):\n",
    "                new_high_buys = highs_buy[j]\n",
    "                new_low_buys = lows_buy[j]\n",
    "            if(j > 0):\n",
    "                if (highs_buy[j] > new_high_buys):\n",
    "                    new_high_buys = highs_buy[j]\n",
    "                if(lows_buy[j] < new_low_buys):\n",
    "                    new_low_buys = lows_buy[j]\n",
    "\n",
    "            profit_buy_pos = round(new_high_buys - price_buy ,2)\n",
    "            profit_buy_neg = round(new_low_buys - price_buy, 2)\n",
    "            if (profit_buy_neg < -range_tam ):\n",
    "                profit_buy_neg = -range_tam\n",
    "\n",
    "            if (profit_buy_pos > target):\n",
    "                exit_target_buy = True\n",
    "                exit_buy = target\n",
    "            if (exit_target_buy == False) and (new_low_buys < minimum):\n",
    "                exit_range_buy = True\n",
    "                exit_buy = round(minimum - price_buy,2)\n",
    "            if (exit_target_buy == False) and (exit_range_buy == False) and (j == len(highs_buy)-1):\n",
    "                exit_hour_buy = True\n",
    "                exit_buy = round(hist.iloc[-1,3] - price_buy,2)\n",
    "    else:\n",
    "        exit_buy = 0\n",
    "        profit_buy_pos = 0\n",
    "        profit_buy_neg = 0\n",
    "\n",
    "    #Getting results\n",
    "    results = [date, exit_buy, exit_sell, profit_buy_pos, profit_sell_pos,\n",
    "               profit_buy_neg, profit_sell_neg, lots]\n",
    "    results = pd.DataFrame(results).T.set_index(0)\n",
    "\n",
    "    #Appending results\n",
    "    total_0 = pd.concat([total_0,results])\n",
    "\n",
    "    #restart variables in each iteration\n",
    "    profit_buy_pos = profit_sell_pos = 0\n",
    "    profit_buy_neg = profit_sell_neg = 0\n",
    "    exit_buy = exit_sell = 0\n",
    "    exit_target_sell = exit_range_sell = False\n",
    "    exit_hour_sell = exit_target_buy = False\n",
    "    exit_range_buy = exit_hour_buy = False\n",
    "    calc_buy = calc_sell = False\n",
    "    \n",
    "    printProgressBar(i + 1, delta   , prefix = 'Progress:', suffix = 'Complete', length = 50)'''"
   ]
  },
  {
   "cell_type": "code",
   "execution_count": 10,
   "metadata": {},
   "outputs": [
    {
     "data": {
      "text/plain": [
       "\"total_0.index.names = ['date']\\ntotal_0.columns = ['final profit buy', 'final profit sell', \\n                 'max profit buy', 'max profit sell', \\n                 'min profit buy', 'min profit sell', 'lots']\""
      ]
     },
     "execution_count": 10,
     "metadata": {},
     "output_type": "execute_result"
    }
   ],
   "source": [
    "'''total_0.index.names = ['date']\n",
    "total_0.columns = ['final profit buy', 'final profit sell', \n",
    "                 'max profit buy', 'max profit sell', \n",
    "                 'min profit buy', 'min profit sell', 'lots']'''"
   ]
  },
  {
   "cell_type": "code",
   "execution_count": 11,
   "metadata": {},
   "outputs": [],
   "source": [
    "#total_0.to_excel('total_0.xlsx')"
   ]
  },
  {
   "cell_type": "code",
   "execution_count": 12,
   "metadata": {},
   "outputs": [],
   "source": [
    "total = pd.read_excel('total_0.xlsx').set_index('date')"
   ]
  },
  {
   "cell_type": "markdown",
   "metadata": {},
   "source": [
    "### Profit by day"
   ]
  },
  {
   "cell_type": "code",
   "execution_count": 13,
   "metadata": {},
   "outputs": [],
   "source": [
    "total['profit usd'] = (total['final profit buy'] + total['final profit sell']) * total['lots']"
   ]
  },
  {
   "cell_type": "markdown",
   "metadata": {},
   "source": [
    "### Acumulated Profit"
   ]
  },
  {
   "cell_type": "code",
   "execution_count": 14,
   "metadata": {},
   "outputs": [],
   "source": [
    "total['accumulated profit'] = total['profit usd'].cumsum() + account"
   ]
  },
  {
   "cell_type": "code",
   "execution_count": 15,
   "metadata": {},
   "outputs": [],
   "source": [
    "total['max profit'] = total['accumulated profit'].cummax()"
   ]
  },
  {
   "cell_type": "markdown",
   "metadata": {},
   "source": [
    "### Instantiating Backtesting class"
   ]
  },
  {
   "cell_type": "code",
   "execution_count": 16,
   "metadata": {},
   "outputs": [],
   "source": [
    "back = Backtesting_Strategy(total)"
   ]
  },
  {
   "cell_type": "markdown",
   "metadata": {},
   "source": [
    "### Backtesting Results"
   ]
  },
  {
   "cell_type": "markdown",
   "metadata": {},
   "source": [
    "### 1. Total Profit (USD)"
   ]
  },
  {
   "cell_type": "code",
   "execution_count": 17,
   "metadata": {},
   "outputs": [
    {
     "name": "stdout",
     "output_type": "stream",
     "text": [
      "total profit (USD):  17587.36\n"
     ]
    }
   ],
   "source": [
    "total_profit_usd = back.final_profit_usd()\n",
    "print('total profit (USD): ', total_profit_usd)"
   ]
  },
  {
   "cell_type": "markdown",
   "metadata": {},
   "source": [
    "#### profit in ticks (mean)"
   ]
  },
  {
   "cell_type": "code",
   "execution_count": 18,
   "metadata": {},
   "outputs": [
    {
     "name": "stdout",
     "output_type": "stream",
     "text": [
      "profit buy mean(ticks):  1.84\n"
     ]
    }
   ],
   "source": [
    "profit_buy_mean = round(((total['max profit buy']).loc[(total['max profit buy']) != 0]).mean(),2)\n",
    "print('profit buy mean(ticks): ',profit_buy_mean)"
   ]
  },
  {
   "cell_type": "code",
   "execution_count": 19,
   "metadata": {},
   "outputs": [
    {
     "name": "stdout",
     "output_type": "stream",
     "text": [
      "profit sell mean(ticks):  2.54\n"
     ]
    }
   ],
   "source": [
    "profit_sell_mean = round(((total['max profit sell']).loc[(total['max profit sell']) != 0]).mean(),2)\n",
    "print('profit sell mean(ticks): ',profit_sell_mean)"
   ]
  },
  {
   "cell_type": "code",
   "execution_count": 20,
   "metadata": {},
   "outputs": [
    {
     "name": "stdout",
     "output_type": "stream",
     "text": [
      "profit mean (ticks):  2.19\n"
     ]
    }
   ],
   "source": [
    "profit_mean = (profit_buy_mean + profit_sell_mean)/2\n",
    "print('profit mean (ticks): ', profit_mean)"
   ]
  },
  {
   "cell_type": "markdown",
   "metadata": {},
   "source": [
    "### 2. Total commissions (USD)"
   ]
  },
  {
   "cell_type": "code",
   "execution_count": 21,
   "metadata": {},
   "outputs": [
    {
     "name": "stdout",
     "output_type": "stream",
     "text": [
      "total commissions (USD):  797.36\n"
     ]
    }
   ],
   "source": [
    "total_commissions = back.total_commissions()\n",
    "print('total commissions (USD): ', total_commissions)"
   ]
  },
  {
   "cell_type": "markdown",
   "metadata": {},
   "source": [
    "### 3. Net profit"
   ]
  },
  {
   "cell_type": "code",
   "execution_count": 22,
   "metadata": {},
   "outputs": [
    {
     "name": "stdout",
     "output_type": "stream",
     "text": [
      "net profit (USD):  16790.0\n"
     ]
    }
   ],
   "source": [
    "net_profit = total_profit_usd - total_commissions\n",
    "print('net profit (USD): ', net_profit)"
   ]
  },
  {
   "cell_type": "markdown",
   "metadata": {},
   "source": [
    "### 4. Gross Profit and Gross Loss (USD)"
   ]
  },
  {
   "cell_type": "code",
   "execution_count": 23,
   "metadata": {},
   "outputs": [
    {
     "name": "stdout",
     "output_type": "stream",
     "text": [
      "gross profit(USD):  41740.5  gross loss (USD):  -24153.14\n"
     ]
    }
   ],
   "source": [
    "gross_profit, gross_loss = back.gross_profit_and_loss()\n",
    "print('gross profit(USD): ', gross_profit, ' gross loss (USD): ',gross_loss)"
   ]
  },
  {
   "cell_type": "markdown",
   "metadata": {},
   "source": [
    "### 5. Profit Factor"
   ]
  },
  {
   "cell_type": "code",
   "execution_count": 24,
   "metadata": {},
   "outputs": [
    {
     "name": "stdout",
     "output_type": "stream",
     "text": [
      "profit factor:  1.73\n"
     ]
    }
   ],
   "source": [
    "profit_factor = abs(gross_profit/gross_loss)\n",
    "print('profit factor: ', round(profit_factor,2))"
   ]
  },
  {
   "cell_type": "markdown",
   "metadata": {},
   "source": [
    "### 6. Maximal Drawdown"
   ]
  },
  {
   "cell_type": "code",
   "execution_count": 25,
   "metadata": {},
   "outputs": [
    {
     "name": "stdout",
     "output_type": "stream",
     "text": [
      "maximal drawdown(usd):  1752.25  date:  2018/08/13\n"
     ]
    }
   ],
   "source": [
    "max_drawdown, max_draw_date = back.max_drawdown()\n",
    "print('maximal drawdown(usd): ', max_drawdown, ' date: ', max_draw_date)"
   ]
  },
  {
   "cell_type": "markdown",
   "metadata": {},
   "source": [
    "### 7. Relative Drawdown"
   ]
  },
  {
   "cell_type": "code",
   "execution_count": 26,
   "metadata": {},
   "outputs": [
    {
     "name": "stdout",
     "output_type": "stream",
     "text": [
      "Relative drawdown:  8.76 %\n"
     ]
    }
   ],
   "source": [
    "relative_drawdown = max_drawdown/account\n",
    "print('Relative drawdown: ', round(relative_drawdown*100,2),'%')"
   ]
  },
  {
   "cell_type": "markdown",
   "metadata": {},
   "source": [
    "### 8. Absolute Drawdown"
   ]
  },
  {
   "cell_type": "code",
   "execution_count": 27,
   "metadata": {},
   "outputs": [
    {
     "name": "stdout",
     "output_type": "stream",
     "text": [
      "Absolute Drawdown(usd): 0\n"
     ]
    }
   ],
   "source": [
    "absolute_drawdown = back.absolute_drawdown(account)\n",
    "print('Absolute Drawdown(usd):', round(absolute_drawdown,2))"
   ]
  },
  {
   "cell_type": "markdown",
   "metadata": {},
   "source": [
    "### 9. Maximal Drawdown Date"
   ]
  },
  {
   "cell_type": "code",
   "execution_count": 34,
   "metadata": {},
   "outputs": [
    {
     "name": "stdout",
     "output_type": "stream",
     "text": [
      "Max. number of days in DD:  95 , between days:  ['2018/06/26', '2018/09/28']\n"
     ]
    }
   ],
   "source": [
    "max_dd_days, dates_max_dd = back.max_drawdown_date(account)\n",
    "print('Max. number of days in DD: ', max_dd_days, ', between days: ', dates_max_dd)"
   ]
  },
  {
   "cell_type": "code",
   "execution_count": null,
   "metadata": {},
   "outputs": [],
   "source": []
  },
  {
   "cell_type": "code",
   "execution_count": null,
   "metadata": {},
   "outputs": [],
   "source": []
  },
  {
   "cell_type": "code",
   "execution_count": null,
   "metadata": {},
   "outputs": [],
   "source": []
  },
  {
   "cell_type": "markdown",
   "metadata": {},
   "source": [
    "### Percent Profitable"
   ]
  },
  {
   "cell_type": "markdown",
   "metadata": {},
   "source": [
    "#### In long"
   ]
  },
  {
   "cell_type": "code",
   "execution_count": null,
   "metadata": {},
   "outputs": [],
   "source": [
    "number_longs = (total['final profit buy'] != 0).sum()\n",
    "number_pos_longs = (total['final profit buy'] > 0).sum()\n",
    "number_neg_longs = number_longs - number_pos_longs\n",
    "percent_longs = number_pos_longs/number_longs\n",
    "print('total buy trades: ', number_longs, ' positive longs: ',number_pos_longs,  ' negative longs: ',number_neg_longs,\n",
    "      '\\nPercent profitable longs: ', round(percent_longs*100,2),'%')"
   ]
  },
  {
   "cell_type": "markdown",
   "metadata": {},
   "source": [
    "#### in short"
   ]
  },
  {
   "cell_type": "code",
   "execution_count": null,
   "metadata": {},
   "outputs": [],
   "source": [
    "number_shorts = (total['final profit sell'] != 0).sum()\n",
    "number_pos_shorts = (total['final profit sell'] > 0).sum()\n",
    "number_neg_shorts = number_shorts - number_pos_shorts\n",
    "percent_shorts = number_pos_shorts/number_shorts\n",
    "print('total sell trades: ', number_shorts, ' positive shorts: ',number_pos_shorts, ' negative shorts: ',number_neg_shorts,\n",
    "      '\\nPercent profitable shorts: ', round(percent_shorts*100,2),'%')"
   ]
  },
  {
   "cell_type": "markdown",
   "metadata": {},
   "source": [
    "#### total"
   ]
  },
  {
   "cell_type": "code",
   "execution_count": null,
   "metadata": {},
   "outputs": [],
   "source": [
    "total_trades = number_longs + number_shorts\n",
    "total_positive = number_pos_longs + number_pos_shorts\n",
    "total_negative = number_neg_longs + number_neg_shorts\n",
    "percent_total = total_positive/total_trades\n",
    "print('total trades: ', total_trades, ' positive trades: ',total_positive, ' negative trades: ', total_negative,\n",
    "      '\\nTotal Percent profitable: ', round(percent_total*100,2),'%')"
   ]
  },
  {
   "cell_type": "markdown",
   "metadata": {},
   "source": [
    "### Expected Payoff"
   ]
  },
  {
   "cell_type": "code",
   "execution_count": null,
   "metadata": {},
   "outputs": [],
   "source": [
    "expected_payoff = (total_profit_usd - sum_commissions) / total_trades\n",
    "print('Expected Payoff: ', round(expected_payoff,2))"
   ]
  },
  {
   "cell_type": "markdown",
   "metadata": {},
   "source": [
    "### Greater profitable transaction "
   ]
  },
  {
   "cell_type": "code",
   "execution_count": null,
   "metadata": {},
   "outputs": [],
   "source": [
    "max_profit_long = results_long[results_long > 0].max()\n",
    "max_profit_short = results_short[results_short > 0].max()\n",
    "max_profit = max(max_profit_long, max_profit_short)\n",
    "print('Greater Profitable transaction: ' , round(max_profit,2))"
   ]
  },
  {
   "cell_type": "markdown",
   "metadata": {},
   "source": [
    "### Greater non profitable transaction"
   ]
  },
  {
   "cell_type": "code",
   "execution_count": null,
   "metadata": {},
   "outputs": [],
   "source": [
    "max_loss_long = results_long[results_long < 0].min()\n",
    "max_loss_short = results_short[results_short < 0].min()\n",
    "max_loss = min(max_loss_long, max_loss_short)\n",
    "print('Greater non Profitable transaction: ' , round(max_loss,2))"
   ]
  },
  {
   "cell_type": "markdown",
   "metadata": {},
   "source": [
    "### Average profitable transaction"
   ]
  },
  {
   "cell_type": "code",
   "execution_count": null,
   "metadata": {},
   "outputs": [],
   "source": [
    "ave_profit = pd.concat([results_long[results_long > 0],results_short[results_short > 0]]).mean()\n",
    "print('Average profitable transaction: ', round(ave_profit,2))"
   ]
  },
  {
   "cell_type": "markdown",
   "metadata": {},
   "source": [
    "### Average non profitable transaction"
   ]
  },
  {
   "cell_type": "code",
   "execution_count": null,
   "metadata": {},
   "outputs": [],
   "source": [
    "ave_loss = pd.concat([results_long[results_long < 0],results_short[results_short < 0]]).mean()\n",
    "print('Average non profitable transaction: ', round(ave_loss,2))"
   ]
  },
  {
   "cell_type": "markdown",
   "metadata": {},
   "source": [
    "### Profit Factor"
   ]
  },
  {
   "cell_type": "code",
   "execution_count": null,
   "metadata": {},
   "outputs": [],
   "source": [
    "profit_factor = abs(total_profits/total_losses)\n",
    "print('Profit Factor: ', round(profit_factor,2))"
   ]
  },
  {
   "cell_type": "code",
   "execution_count": null,
   "metadata": {},
   "outputs": [],
   "source": [
    "final_metrics = {}\n",
    "final_metrics = {'Initial Account (usd)': account, 'Total profit (usd)': total_profit_usd, 'Total Commissions (usd)': total_commissions, 'Net Profit (usd)': net_profit,\n",
    "                'Gross Profit (usd)': gross_profit, 'Gross Loss (usd)': gross_loss, 'Profit Factor': round(profit_factor,2), 'Expected Payoff (usd)': round(expected_payoff,2),\n",
    "                'Absolute Drawdown (usd)': round(absolute_drawdown,2), 'Maximal Drawdown (usd)': round(max_drawdown,2), 'Relative Drawdown (%)': round(relative_drawdown*100,2),\n",
    "                'Maximal Drawdown Date': max_draw_date, 'Maximal period in Drawdown (days)': max_dd_days, 'Dates of max. DD period': str(dates_max_dd), \n",
    "                'Total Transactions': total_trades, 'Winning Trades': total_positive, 'Winning Trades (%)': round(percent_total*100,2),\n",
    "                'Losing Trades': total_negative, 'Losing Trades (%)': round(100-(percent_total*100),2),\n",
    "                'Short Positions': number_shorts, 'Winning Shorts': number_pos_shorts, 'Winning Shorts (%)': round(percent_shorts*100,2),\n",
    "                'Long Positions': number_longs, 'Winning Longs': number_pos_longs, 'Winning Longs (%)': round(percent_longs*100,2),\n",
    "                'Greater Profitable Transaction (usd)': max_profit, 'Greater non Profitable Transaction (usd)': max_loss,\n",
    "                'Profitable Transaction Average (usd)': round(ave_profit,2), 'Non Profitable Transaction Average (usd)': round(ave_loss,2)}"
   ]
  },
  {
   "cell_type": "code",
   "execution_count": null,
   "metadata": {},
   "outputs": [],
   "source": [
    "final_metrics = pd.DataFrame(final_metrics, index = [0]).T\n",
    "final_metrics.index.names = ['Metric']\n",
    "final_metrics.columns = ['Values']\n",
    "final_metrics"
   ]
  },
  {
   "cell_type": "code",
   "execution_count": null,
   "metadata": {},
   "outputs": [],
   "source": [
    "final_metrics.to_excel(instrument+'_'+str(tempo)+'Min.xlsx')"
   ]
  },
  {
   "cell_type": "code",
   "execution_count": null,
   "metadata": {},
   "outputs": [],
   "source": [
    "total.to_excel('total_'+instrument+'_'+str(tempo)+'Min.xlsx')"
   ]
  },
  {
   "cell_type": "code",
   "execution_count": null,
   "metadata": {},
   "outputs": [],
   "source": [
    "total['accumulated profit'].plot(figsize=(18,10),label='accumulated',color='black',lw=2)\n",
    "total['max profit'].plot(color='red',label='max',ls='-',alpha=0.7)\n",
    "plt.xlabel('Date')\n",
    "plt.ylabel('Profit')\n",
    "plt.title('Results '+instrument+' '+str(tempo)+' Min')\n",
    "plt.legend()\n",
    "plt.savefig(instrument+'_'+str(tempo)+'Min.png')"
   ]
  },
  {
   "cell_type": "code",
   "execution_count": null,
   "metadata": {},
   "outputs": [],
   "source": []
  }
 ],
 "metadata": {
  "kernelspec": {
   "display_name": "Python 3",
   "language": "python",
   "name": "python3"
  },
  "language_info": {
   "codemirror_mode": {
    "name": "ipython",
    "version": 3
   },
   "file_extension": ".py",
   "mimetype": "text/x-python",
   "name": "python",
   "nbconvert_exporter": "python",
   "pygments_lexer": "ipython3",
   "version": "3.7.3"
  }
 },
 "nbformat": 4,
 "nbformat_minor": 2
}
