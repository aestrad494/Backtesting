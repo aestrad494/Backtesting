{
 "cells": [
  {
   "cell_type": "markdown",
   "metadata": {},
   "source": [
    "# Backtesting Futures"
   ]
  },
  {
   "cell_type": "markdown",
   "metadata": {},
   "source": [
    "### Importing Packages"
   ]
  },
  {
   "cell_type": "code",
   "execution_count": null,
   "metadata": {},
   "outputs": [],
   "source": [
    "from ib_insync import *\n",
    "util.startLoop()\n",
    "import pandas as pd\n",
    "import numpy as np\n",
    "from math import floor\n",
    "from datetime import timedelta,datetime\n",
    "import matplotlib.pyplot as plt\n",
    "from Backtesting_Class import Backtesting_Strategy"
   ]
  },
  {
   "cell_type": "code",
   "execution_count": null,
   "metadata": {},
   "outputs": [],
   "source": [
    "datetime.now()"
   ]
  },
  {
   "cell_type": "markdown",
   "metadata": {},
   "source": [
    "### Definning variable"
   ]
  },
  {
   "cell_type": "code",
   "execution_count": null,
   "metadata": {},
   "outputs": [],
   "source": [
    "instrument = 'AAPL'\n",
    "hora_ini = '08:30:00'\n",
    "hora_fin = '14:59:00'\n",
    "target = 1.30\n",
    "tempo = 1\n",
    "num_bars = 1\n",
    "tempo_h = 1/12\n",
    "num_bars_h = int((num_bars*tempo)/tempo_h)\n",
    "\n",
    "account = 20000\n",
    "risk = 0.001\n",
    "leverage = 1\n",
    "commission = 0.47\n",
    "tick_size = 0.01\n",
    "slippage = 10\n",
    "\n",
    "total_0 = []"
   ]
  },
  {
   "cell_type": "code",
   "execution_count": null,
   "metadata": {},
   "outputs": [],
   "source": [
    "buy = False\n",
    "sell = False\n",
    "exit_sell = False\n",
    "exit_buy= False\n",
    "initial = False\n",
    "exit_type_sell = ''\n",
    "exit_type_buy = ''\n",
    "profit_buy = 0\n",
    "profit_sell = 0\n",
    "max_high = 0\n",
    "min_low = 0"
   ]
  },
  {
   "cell_type": "code",
   "execution_count": null,
   "metadata": {},
   "outputs": [],
   "source": [
    "def printProgressBar (iteration, total, prefix = '', suffix = '', decimals = 2, length = 100, fill = '#'):\n",
    "    percent = (\"{0:.\" + str(decimals) + \"f}\").format(100 * (iteration / float(total)))\n",
    "    filledLength = int(length * iteration // total)\n",
    "    bar = fill * filledLength + '-' * (length - filledLength)\n",
    "    print('\\r%s |%s| %s%% %s' % (prefix, bar, percent, suffix), end = '\\r')\n",
    "    # Print New Line on Complete\n",
    "    if iteration == total: \n",
    "        print()"
   ]
  },
  {
   "cell_type": "markdown",
   "metadata": {},
   "source": [
    "### Download Data"
   ]
  },
  {
   "cell_type": "code",
   "execution_count": null,
   "metadata": {},
   "outputs": [],
   "source": [
    "historical = pd.read_csv(str(instrument)+'_5secs.csv',parse_dates=['date'],index_col='date')"
   ]
  },
  {
   "cell_type": "markdown",
   "metadata": {},
   "source": [
    "### Setting the initial and final date to get days of evaluation"
   ]
  },
  {
   "cell_type": "code",
   "execution_count": null,
   "metadata": {},
   "outputs": [],
   "source": [
    "initial_date = '2018-06-06'\n",
    "final_date = '2019-06-09'\n",
    "\n",
    "delta = (pd.to_datetime(final_date) - pd.to_datetime(initial_date)).days + 1\n",
    "print('Number of Evaluation days: ', delta)"
   ]
  },
  {
   "cell_type": "code",
   "execution_count": null,
   "metadata": {},
   "outputs": [],
   "source": [
    "dates = [str((pd.to_datetime(initial_date) + timedelta(days=x)).strftime(\"%Y-%m-%d\")) for x in range(delta)]"
   ]
  },
  {
   "cell_type": "code",
   "execution_count": null,
   "metadata": {},
   "outputs": [],
   "source": [
    "total_0 = pd.DataFrame(total_0)"
   ]
  },
  {
   "cell_type": "code",
   "execution_count": null,
   "metadata": {},
   "outputs": [],
   "source": [
    "iteration = 0"
   ]
  },
  {
   "cell_type": "code",
   "execution_count": null,
   "metadata": {},
   "outputs": [],
   "source": []
  },
  {
   "cell_type": "code",
   "execution_count": null,
   "metadata": {},
   "outputs": [],
   "source": [
    "#dates = ['2019/08/13', '2019/08/14','2019/08/15','2019/08/16','2019/08/20','2019/08/21','2019/08/23']\n",
    "#delta = len(dates)"
   ]
  },
  {
   "cell_type": "code",
   "execution_count": null,
   "metadata": {},
   "outputs": [],
   "source": []
  },
  {
   "cell_type": "code",
   "execution_count": null,
   "metadata": {},
   "outputs": [],
   "source": [
    "for date in dates:\n",
    "    #Getting weekday\n",
    "    weekday = pd.to_datetime(date).weekday()\n",
    "\n",
    "    #Getting the historical piece of data to evaluate\n",
    "    hist = historical.loc[date+' '+hora_ini:date+' '+hora_fin,:].copy(deep=True)\n",
    "    hour_range = pd.to_datetime(date+' '+hora_ini) + timedelta(minutes = num_bars*tempo)\n",
    "\n",
    "    if not hist.empty and weekday < 5:\n",
    "        bars_range = hist.loc[date+' '+hora_ini:,:].iloc[:num_bars_h]\n",
    "        maximum = round(bars_range['high'].max(),2)\n",
    "        minimum = round(bars_range['low'].min(),2)\n",
    "        #target = 1.07\n",
    "        lots = floor((account*risk)/((maximum-minimum)*leverage))\n",
    "        \n",
    "        if lots > 0:\n",
    "            for i in range(hist.shape[0]):\n",
    "                if hist.index[i] > hour_range:\n",
    "                    current_high = hist.high[i]\n",
    "                    current_low = hist.low[i]\n",
    "\n",
    "                    if (current_high > maximum) and not buy:\n",
    "                        buy = True\n",
    "                        entry_price_buy = maximum + (slippage*tick_size)\n",
    "                    if (current_low < minimum) and not sell:\n",
    "                        sell = True\n",
    "                        entry_price_sell = minimum - (slippage*tick_size)\n",
    "                    \n",
    "                    if not initial:\n",
    "                        max_high = current_high\n",
    "                        min_low = current_low\n",
    "                        initial = True\n",
    "                    \n",
    "                    if buy and current_high > max_high and exit_type_buy != 'stop':\n",
    "                        max_high = current_high\n",
    "                    if sell and current_low < min_low and exit_type_sell != 'stop':\n",
    "                        min_low = current_low\n",
    "\n",
    "                    if buy and not exit_buy:\n",
    "                        if current_low < minimum:\n",
    "                            exit_buy = True\n",
    "                            exit_price_buy = minimum - slippage*tick_size\n",
    "                            exit_type_buy = 'stop'\n",
    "                        elif current_high > maximum+target:\n",
    "                            exit_buy = True\n",
    "                            exit_price_buy = maximum+target\n",
    "                            exit_type_buy = 'target'\n",
    "                        #elif str(hist.index[i]) >= date+' '+hora_fin:\n",
    "                        if i == hist.shape[0]-1:\n",
    "                            exit_buy = True\n",
    "                            exit_price_buy = hist.close[i] - slippage*tick_size\n",
    "                            exit_type_buy = 'time'\n",
    "                    if sell and not exit_sell:\n",
    "                        if current_high > maximum:\n",
    "                            exit_sell = True\n",
    "                            exit_price_sell = maximum + slippage*tick_size\n",
    "                            exit_type_sell = 'stop'\n",
    "                        elif current_low < minimum-target:\n",
    "                            exit_sell = True\n",
    "                            exit_price_sell = minimum-target\n",
    "                            exit_type_sell = 'target'\n",
    "                        #elif str(hist.index[i]) >= date+' '+hora_fin:\n",
    "                        if i == hist.shape[0]-1:\n",
    "                            exit_sell = True\n",
    "                            exit_price_sell = hist.close[i] + slippage*tick_size\n",
    "                            exit_type_sell = 'time'\n",
    "        if not buy:\n",
    "            profit_buy_max = 0\n",
    "            profit_buy = 0\n",
    "        else:\n",
    "            profit_buy = exit_price_buy - entry_price_buy\n",
    "            profit_buy_max = max_high - entry_price_buy\n",
    "        if not sell:\n",
    "            profit_sell_max = 0\n",
    "            profit_sell = 0\n",
    "        else:\n",
    "            profit_sell = entry_price_sell - exit_price_sell\n",
    "            profit_sell_max = entry_price_sell - min_low\n",
    "\n",
    "        #Getting results\n",
    "        results = [date, profit_buy, profit_sell, profit_buy_max, profit_sell_max, lots]\n",
    "        results = pd.DataFrame(results).T.set_index(0)\n",
    "\n",
    "        #Appending results\n",
    "        total_0 = pd.concat([total_0,results])\n",
    "        \n",
    "        #Restarting Variables\n",
    "        maximum = minimum = 0\n",
    "        lots = 0\n",
    "        buy = sell = False\n",
    "        exit_buy = exit_sell = False\n",
    "        initial = False\n",
    "        current_high = current_low = 0\n",
    "        max_high = min_low = 0\n",
    "        entry_price_buy = entry_price_sell = 0\n",
    "        exit_price_buy = exit_price_sell = 0\n",
    "        profit_buy = profit_sell = 0\n",
    "        profit_buy_max = profit_sell_max = 0\n",
    "        \n",
    "    iteration+=1\n",
    "    printProgressBar(iteration, len(dates) , prefix = 'Progress:', suffix = 'Complete', length = 50)"
   ]
  },
  {
   "cell_type": "code",
   "execution_count": null,
   "metadata": {},
   "outputs": [],
   "source": []
  },
  {
   "cell_type": "code",
   "execution_count": null,
   "metadata": {},
   "outputs": [],
   "source": []
  },
  {
   "cell_type": "code",
   "execution_count": null,
   "metadata": {},
   "outputs": [],
   "source": [
    "#date = dates[4]\n",
    "#date = dates[2]\n",
    "date = '2019-08-23'\n",
    "#Getting weekday\n",
    "weekday = pd.to_datetime(date).weekday()\n",
    "\n",
    "#Getting the historical piece of data to evaluate\n",
    "hist = historical.loc[date+' '+hora_ini:date+' '+hora_fin,:].copy(deep=True)\n",
    "hour_range = pd.to_datetime(date+' '+hora_ini) + timedelta(minutes = num_bars*tempo)\n",
    "\n",
    "if not hist.empty and weekday < 5:\n",
    "    bars_range = hist.loc[date+' '+hora_ini:,:].iloc[:num_bars_h]\n",
    "    maximum = round(bars_range['high'].max(),2)\n",
    "    minimum = round(bars_range['low'].min(),2)\n",
    "    target = 5.30\n",
    "    lots = floor((account*risk)/((maximum-minimum)*leverage))\n",
    "\n",
    "    if lots > 0:\n",
    "        for i in range(hist.shape[0]):\n",
    "            if hist.index[i] > hour_range:\n",
    "                current_high = hist.high[i]\n",
    "                current_low = hist.low[i]\n",
    "\n",
    "                if (current_high > maximum) and not buy:\n",
    "                    buy = True\n",
    "                    entry_price_buy = maximum + (slippage*tick_size)\n",
    "                if (current_low < minimum) and not sell:\n",
    "                    sell = True\n",
    "                    entry_price_sell = minimum - (slippage*tick_size)\n",
    "\n",
    "                if not initial:\n",
    "                    max_high = current_high\n",
    "                    min_low = current_low\n",
    "                    initial = True\n",
    "                \n",
    "                if buy and current_high > max_high and exit_type_buy != 'stop':\n",
    "                    max_high = current_high\n",
    "                if sell and current_low < min_low and exit_type_sell != 'stop':\n",
    "                    min_low = current_low\n",
    "\n",
    "                if buy and not exit_buy:\n",
    "                    if current_low < minimum:\n",
    "                        exit_buy = True\n",
    "                        exit_price_buy = minimum - slippage*tick_size\n",
    "                        exit_type_buy = 'stop'\n",
    "                    elif current_high > maximum+target:\n",
    "                        exit_buy = True\n",
    "                        exit_price_buy = maximum+target\n",
    "                        exit_type_buy = 'target'\n",
    "                    #elif str(hist.index[i]) >= date+' '+hora_fin:\n",
    "                    if i == hist.shape[0]-1:\n",
    "                        exit_buy = True\n",
    "                        exit_price_buy = hist.close[i] - slippage*tick_size\n",
    "                        exit_type_buy = 'time'\n",
    "                if sell and not exit_sell:\n",
    "                    if current_high > maximum:\n",
    "                        exit_sell = True\n",
    "                        exit_price_sell = maximum + slippage*tick_size\n",
    "                        exit_type_sell = 'stop'\n",
    "                    elif current_low < minimum-target:\n",
    "                        exit_sell = True\n",
    "                        exit_price_sell = minimum-target\n",
    "                        exit_type_sell = 'target'\n",
    "                    #elif str(hist.index[i]) >= date+' '+hora_fin:\n",
    "                    if i == hist.shape[0]-1:\n",
    "                        exit_sell = True\n",
    "                        exit_price_sell = hist.close[i] + slippage*tick_size\n",
    "                        exit_type_sell = 'time'\n",
    "    if not buy:\n",
    "        profit_buy_max = 0\n",
    "        profit_buy = 0\n",
    "    else:\n",
    "        profit_buy = exit_price_buy - entry_price_buy\n",
    "        profit_buy_max = max_high - entry_price_buy\n",
    "    if not sell:\n",
    "        profit_sell_max = 0\n",
    "        profit_sell = 0\n",
    "    else:\n",
    "        profit_sell = entry_price_sell - exit_price_sell\n",
    "        profit_sell_max = entry_price_sell - min_low\n",
    "\n",
    "    #Getting results\n",
    "    results = [date, profit_buy, profit_sell, profit_buy_max, profit_sell_max, lots]\n",
    "    results = pd.DataFrame(results).T.set_index(0)\n",
    "\n",
    "    #Appending results\n",
    "    total_0 = pd.concat([total_0,results])\n",
    "\n",
    "    #Restarting Variables\n",
    "    '''maximum = minimum = 0\n",
    "    lots = 0\n",
    "    buy = sell = False\n",
    "    exit_buy = exit_sell = False\n",
    "    current_high = current_low = 0\n",
    "    max_high = min_low = 0\n",
    "    entry_price_buy = entry_price_sell = 0\n",
    "    exit_price_buy = exit_price_sell = 0\n",
    "    profit_buy = profit_sell = 0\n",
    "    profit_buy_max = profit_sell_max = 0\n",
    "\n",
    "iteration+=1\n",
    "printProgressBar(iteration, len(dates) , prefix = 'Progress:', suffix = 'Complete', length = 50)'''"
   ]
  },
  {
   "cell_type": "code",
   "execution_count": null,
   "metadata": {},
   "outputs": [],
   "source": [
    "#total_0"
   ]
  },
  {
   "cell_type": "code",
   "execution_count": null,
   "metadata": {},
   "outputs": [],
   "source": [
    "date = '2019-08-23'\n",
    "date"
   ]
  },
  {
   "cell_type": "code",
   "execution_count": null,
   "metadata": {},
   "outputs": [],
   "source": [
    "'''hist = historical.loc[date+' '+hora_ini:date+' '+hora_fin,:].copy(deep=True)\n",
    "bars_range = hist.loc[date+' '+hora_ini:,:].iloc[:num_bars_h]\n",
    "maximum = round(bars_range['high'].max(),2)\n",
    "minimum = round(bars_range['low'].min(),2)'''"
   ]
  },
  {
   "cell_type": "code",
   "execution_count": null,
   "metadata": {},
   "outputs": [],
   "source": [
    "target"
   ]
  },
  {
   "cell_type": "code",
   "execution_count": null,
   "metadata": {
    "scrolled": false
   },
   "outputs": [],
   "source": [
    "'''hist.high.plot(figsize = (16,10),color = 'green')#.resample('5Min').max().plot(figsize = (16,10),color = 'green')\n",
    "hist.low.plot(color = 'red')#.resample('5Min').min().plot(color = 'red')\n",
    "plt.axhline(y=maximum, color='blue', linestyle='-')\n",
    "plt.axhline(y=minimum, color='orange', linestyle='-')\n",
    "plt.axhline(y=maximum+target, color='green', linestyle='-')\n",
    "plt.axhline(y=minimum-target, color='green', linestyle='-')'''"
   ]
  },
  {
   "cell_type": "code",
   "execution_count": null,
   "metadata": {},
   "outputs": [],
   "source": [
    "total_0"
   ]
  },
  {
   "cell_type": "code",
   "execution_count": null,
   "metadata": {},
   "outputs": [],
   "source": []
  },
  {
   "cell_type": "code",
   "execution_count": null,
   "metadata": {},
   "outputs": [],
   "source": []
  },
  {
   "cell_type": "code",
   "execution_count": null,
   "metadata": {},
   "outputs": [],
   "source": [
    "total_0.index.names = ['date']\n",
    "total_0.columns = ['final profit buy', 'final profit sell',\n",
    "                 'max profit buy', 'max profit sell', 'lots']"
   ]
  },
  {
   "cell_type": "code",
   "execution_count": null,
   "metadata": {},
   "outputs": [],
   "source": [
    "total = total_0"
   ]
  },
  {
   "cell_type": "code",
   "execution_count": null,
   "metadata": {},
   "outputs": [],
   "source": [
    "#total = pd.read_excel('total_0.xlsx').set_index('date')"
   ]
  },
  {
   "cell_type": "markdown",
   "metadata": {},
   "source": [
    "### Profit by day"
   ]
  },
  {
   "cell_type": "code",
   "execution_count": null,
   "metadata": {},
   "outputs": [],
   "source": [
    "total['profit usd'] = (total['final profit buy'] + total['final profit sell']) * total['lots'] * leverage"
   ]
  },
  {
   "cell_type": "markdown",
   "metadata": {},
   "source": [
    "### Acumulated Profit"
   ]
  },
  {
   "cell_type": "code",
   "execution_count": null,
   "metadata": {},
   "outputs": [],
   "source": [
    "total['accumulated profit'] = total['profit usd'].cumsum() + account"
   ]
  },
  {
   "cell_type": "code",
   "execution_count": null,
   "metadata": {},
   "outputs": [],
   "source": [
    "total['max profit'] = total['accumulated profit'].cummax()"
   ]
  },
  {
   "cell_type": "markdown",
   "metadata": {},
   "source": [
    "### Instantiating Backtesting class"
   ]
  },
  {
   "cell_type": "code",
   "execution_count": null,
   "metadata": {},
   "outputs": [],
   "source": [
    "back = Backtesting_Strategy(total)"
   ]
  },
  {
   "cell_type": "markdown",
   "metadata": {},
   "source": [
    "### Backtesting Results"
   ]
  },
  {
   "cell_type": "markdown",
   "metadata": {},
   "source": [
    "### 1. Total Profit (USD)"
   ]
  },
  {
   "cell_type": "code",
   "execution_count": null,
   "metadata": {},
   "outputs": [],
   "source": [
    "total_profit_usd = back.final_profit_usd()\n",
    "print('total profit (USD): ', total_profit_usd)"
   ]
  },
  {
   "cell_type": "markdown",
   "metadata": {},
   "source": [
    "#### profit in ticks (mean)"
   ]
  },
  {
   "cell_type": "code",
   "execution_count": null,
   "metadata": {},
   "outputs": [],
   "source": [
    "profit_buy_mean = round(((total['max profit buy']).loc[(total['max profit buy']) != 0]).mean(),2)\n",
    "print('profit buy mean(ticks): ',profit_buy_mean)"
   ]
  },
  {
   "cell_type": "code",
   "execution_count": null,
   "metadata": {},
   "outputs": [],
   "source": [
    "profit_sell_mean = round(((total['max profit sell']).loc[(total['max profit sell']) != 0]).mean(),2)\n",
    "print('profit sell mean(ticks): ',profit_sell_mean)"
   ]
  },
  {
   "cell_type": "code",
   "execution_count": null,
   "metadata": {},
   "outputs": [],
   "source": [
    "profit_mean = (profit_buy_mean + profit_sell_mean)/2\n",
    "print('profit mean (ticks): ', profit_mean)"
   ]
  },
  {
   "cell_type": "markdown",
   "metadata": {},
   "source": [
    "### 2. Total commissions (USD)"
   ]
  },
  {
   "cell_type": "code",
   "execution_count": null,
   "metadata": {},
   "outputs": [],
   "source": [
    "total_commissions = back.total_commissions()\n",
    "print('total commissions (USD): ', total_commissions)"
   ]
  },
  {
   "cell_type": "markdown",
   "metadata": {},
   "source": [
    "### 3. Net profit"
   ]
  },
  {
   "cell_type": "code",
   "execution_count": null,
   "metadata": {},
   "outputs": [],
   "source": [
    "net_profit = total_profit_usd - total_commissions\n",
    "print('net profit (USD): ', net_profit)"
   ]
  },
  {
   "cell_type": "markdown",
   "metadata": {},
   "source": [
    "### 4. Gross Profit and Gross Loss (USD)"
   ]
  },
  {
   "cell_type": "code",
   "execution_count": null,
   "metadata": {},
   "outputs": [],
   "source": [
    "gross_profit, gross_loss = back.gross_profit_and_loss()\n",
    "print('gross profit(USD): ', gross_profit, ' gross loss (USD): ',gross_loss)"
   ]
  },
  {
   "cell_type": "markdown",
   "metadata": {},
   "source": [
    "### 5. Profit Factor"
   ]
  },
  {
   "cell_type": "code",
   "execution_count": null,
   "metadata": {},
   "outputs": [],
   "source": [
    "profit_factor = round(abs(gross_profit/gross_loss),2)\n",
    "print('profit factor: ', profit_factor)"
   ]
  },
  {
   "cell_type": "markdown",
   "metadata": {},
   "source": [
    "### 6. Maximal Drawdown"
   ]
  },
  {
   "cell_type": "code",
   "execution_count": null,
   "metadata": {},
   "outputs": [],
   "source": [
    "max_drawdown, max_draw_date = back.max_drawdown()\n",
    "print('maximal drawdown(usd): ', max_drawdown, ' date: ', max_draw_date)"
   ]
  },
  {
   "cell_type": "markdown",
   "metadata": {},
   "source": [
    "### 7. Relative Drawdown"
   ]
  },
  {
   "cell_type": "code",
   "execution_count": null,
   "metadata": {},
   "outputs": [],
   "source": [
    "relative_drawdown = max_drawdown/account\n",
    "print('Relative drawdown: ', round(relative_drawdown*100,2),'%')"
   ]
  },
  {
   "cell_type": "markdown",
   "metadata": {},
   "source": [
    "### 8. Absolute Drawdown"
   ]
  },
  {
   "cell_type": "code",
   "execution_count": null,
   "metadata": {},
   "outputs": [],
   "source": [
    "absolute_drawdown = back.absolute_drawdown(account)\n",
    "print('Absolute Drawdown(usd):', absolute_drawdown)"
   ]
  },
  {
   "cell_type": "markdown",
   "metadata": {},
   "source": [
    "### 9. Maximal Drawdown Period and date"
   ]
  },
  {
   "cell_type": "code",
   "execution_count": null,
   "metadata": {},
   "outputs": [],
   "source": [
    "max_dd_days, dates_max_dd = back.max_drawdown_date(account)\n",
    "print('Max. number of days in DD: ', max_dd_days, ', between days: ', dates_max_dd)"
   ]
  },
  {
   "cell_type": "markdown",
   "metadata": {},
   "source": [
    "### 10. Trades Info"
   ]
  },
  {
   "cell_type": "markdown",
   "metadata": {},
   "source": [
    "#### 10.1. Total transactions"
   ]
  },
  {
   "cell_type": "code",
   "execution_count": null,
   "metadata": {},
   "outputs": [],
   "source": [
    "total_trades, total_positive, total_negative, percent_total = back.transactions_info('total')\n",
    "print('total trades: ', total_trades, ' positive trades: ',total_positive, ' negative trades: ', total_negative,\n",
    "      '\\nTotal Percent profitable: ', round(percent_total*100,2),'%')"
   ]
  },
  {
   "cell_type": "markdown",
   "metadata": {},
   "source": [
    "#### 10.2. Short transactions"
   ]
  },
  {
   "cell_type": "code",
   "execution_count": null,
   "metadata": {},
   "outputs": [],
   "source": [
    "short_trades, positive_shorts, negative_shorts, percent_shorts = back.transactions_info('shorts')\n",
    "print('total sell trades: ', short_trades, ' positive shorts: ',positive_shorts, ' negative shorts: ',negative_shorts,\n",
    "      '\\nPercent profitable shorts: ', round(percent_shorts*100,2),'%')"
   ]
  },
  {
   "cell_type": "markdown",
   "metadata": {},
   "source": [
    "#### 10.3. Long transactions"
   ]
  },
  {
   "cell_type": "code",
   "execution_count": null,
   "metadata": {},
   "outputs": [],
   "source": [
    "long_trades, positive_longs, negative_longs, percent_longs = back.transactions_info('longs')\n",
    "print('total buy trades: ', long_trades, ' positive longs: ',positive_longs,  ' negative longs: ',negative_longs,\n",
    "      '\\nPercent profitable longs: ', round(percent_longs*100,2),'%')"
   ]
  },
  {
   "cell_type": "markdown",
   "metadata": {},
   "source": [
    "### 11. Expected Payoff"
   ]
  },
  {
   "cell_type": "code",
   "execution_count": null,
   "metadata": {},
   "outputs": [],
   "source": [
    "expected_payoff = round((total_profit_usd - total_commissions) / total_trades,2)\n",
    "print('Expected Payoff: ', expected_payoff)"
   ]
  },
  {
   "cell_type": "markdown",
   "metadata": {},
   "source": [
    "### 12. Greater Transactions"
   ]
  },
  {
   "cell_type": "markdown",
   "metadata": {},
   "source": [
    "#### 12.1. Profitable"
   ]
  },
  {
   "cell_type": "code",
   "execution_count": null,
   "metadata": {},
   "outputs": [],
   "source": [
    "greater_prof = back.greater_transactions('profitable')\n",
    "print('Greater Profitable transaction: ' , greater_prof)"
   ]
  },
  {
   "cell_type": "markdown",
   "metadata": {},
   "source": [
    "#### 12.1. Non Profitable"
   ]
  },
  {
   "cell_type": "code",
   "execution_count": null,
   "metadata": {},
   "outputs": [],
   "source": [
    "greater_non_prof = back.greater_transactions('non profitable')\n",
    "print('Greater non Profitable transaction: ' , greater_non_prof)"
   ]
  },
  {
   "cell_type": "markdown",
   "metadata": {},
   "source": [
    "### 13. Average Transactions"
   ]
  },
  {
   "cell_type": "markdown",
   "metadata": {},
   "source": [
    "#### 13.1. Profitable"
   ]
  },
  {
   "cell_type": "code",
   "execution_count": null,
   "metadata": {},
   "outputs": [],
   "source": [
    "average_prof = back.average_transaction('profitable')\n",
    "print('Average profitable transaction: ', average_prof)"
   ]
  },
  {
   "cell_type": "markdown",
   "metadata": {},
   "source": [
    "#### 13.2. Non Profitable"
   ]
  },
  {
   "cell_type": "code",
   "execution_count": null,
   "metadata": {},
   "outputs": [],
   "source": [
    "average_non_prof = back.average_transaction('non profitable')\n",
    "print('Average non profitable transaction: ', average_non_prof)"
   ]
  },
  {
   "cell_type": "markdown",
   "metadata": {},
   "source": [
    "### Final Metrics"
   ]
  },
  {
   "cell_type": "code",
   "execution_count": null,
   "metadata": {},
   "outputs": [],
   "source": [
    "final_metrics = {}\n",
    "final_metrics = {'Initial Account (usd)': account, 'Total profit (usd)': total_profit_usd, 'Total Commissions (usd)': total_commissions, \n",
    "                 'Net Profit (usd)': net_profit, 'Gross Profit (usd)': gross_profit, 'Gross Loss (usd)': gross_loss, \n",
    "                 'Profit Factor': profit_factor, 'Maximal Drawdown (usd)': max_drawdown, 'Maximal Drawdown Date': max_draw_date,\n",
    "                 'Relative Drawdown (%)': round(relative_drawdown*100,2), 'Absolute Drawdown (usd)': absolute_drawdown,  \n",
    "                 'Maximal period in Drawdown (days)': max_dd_days, 'Dates of max. DD period': str(dates_max_dd), \n",
    "                 'Total Transactions': total_trades, 'Winning Trades': total_positive, 'Winning Trades (%)': round(percent_total*100,2),\n",
    "                 'Losing Trades': total_negative, 'Losing Trades (%)': round(100-(percent_total*100),2),\n",
    "                 'Short Positions': short_trades, 'Winning Shorts': positive_shorts, 'Winning Shorts (%)': round(percent_shorts*100,2),\n",
    "                 'Losing Shorts': negative_shorts, 'Losing Shorts(%)': round(100-(percent_shorts*100),2),\n",
    "                 'Long Positions': long_trades, 'Winning Longs': positive_longs, 'Winning Longs (%)': round(percent_longs*100,2),\n",
    "                 'Losing Longs:': negative_longs, 'Losing Longs(%)': round(100-(percent_longs*100),2),\n",
    "                 'Expected Payoff (usd)': expected_payoff,\n",
    "                 'Greater Profitable Transaction (usd)': greater_prof, 'Greater non Profitable Transaction (usd)': greater_non_prof,\n",
    "                 'Profitable Transaction Average (usd)': average_prof, 'Non Profitable Transaction Average (usd)': average_non_prof}"
   ]
  },
  {
   "cell_type": "code",
   "execution_count": null,
   "metadata": {},
   "outputs": [],
   "source": [
    "final_metrics = pd.DataFrame(final_metrics, index = [0]).T\n",
    "final_metrics.index.names = ['Metric']\n",
    "final_metrics.columns = ['Values']\n",
    "final_metrics"
   ]
  },
  {
   "cell_type": "markdown",
   "metadata": {},
   "source": [
    "### Saving Results"
   ]
  },
  {
   "cell_type": "code",
   "execution_count": null,
   "metadata": {},
   "outputs": [],
   "source": [
    "final_metrics.to_excel('Backtesting_stocks_recent/'+instrument+'_'+str(tempo)+'Min_'+str(num_bars)+'_'+str(target)+'.xlsx')"
   ]
  },
  {
   "cell_type": "code",
   "execution_count": null,
   "metadata": {},
   "outputs": [],
   "source": [
    "total.to_excel('Backtesting_stocks_recent/total_'+instrument+'_'+str(tempo)+'Min.xlsx')"
   ]
  },
  {
   "cell_type": "code",
   "execution_count": null,
   "metadata": {},
   "outputs": [],
   "source": [
    "total['accumulated profit'].plot(figsize=(18,10),label='accumulated',color='black',lw=2)\n",
    "total['max profit'].plot(color='red',label='max',ls='-',alpha=0.7)\n",
    "plt.xlabel('Date')\n",
    "plt.ylabel('Profit')\n",
    "plt.title('Results '+instrument+' '+str(tempo)+' Min')\n",
    "plt.legend()\n",
    "plt.savefig('Backtesting_stocks_recent/'+instrument+'_'+str(tempo)+'Min.png')"
   ]
  },
  {
   "cell_type": "code",
   "execution_count": null,
   "metadata": {},
   "outputs": [],
   "source": [
    "datetime.now()"
   ]
  },
  {
   "cell_type": "code",
   "execution_count": null,
   "metadata": {},
   "outputs": [],
   "source": []
  },
  {
   "cell_type": "code",
   "execution_count": null,
   "metadata": {},
   "outputs": [],
   "source": []
  }
 ],
 "metadata": {
  "kernelspec": {
   "display_name": "Python 3",
   "language": "python",
   "name": "python3"
  },
  "language_info": {
   "codemirror_mode": {
    "name": "ipython",
    "version": 3
   },
   "file_extension": ".py",
   "mimetype": "text/x-python",
   "name": "python",
   "nbconvert_exporter": "python",
   "pygments_lexer": "ipython3",
   "version": "3.7.3"
  }
 },
 "nbformat": 4,
 "nbformat_minor": 2
}
